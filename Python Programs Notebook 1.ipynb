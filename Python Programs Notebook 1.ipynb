{
 "cells": [
  {
   "cell_type": "code",
   "execution_count": 1,
   "id": "7e22d075",
   "metadata": {},
   "outputs": [],
   "source": [
    "# importing library\n",
    "import numpy as np\n",
    "import math"
   ]
  },
  {
   "cell_type": "markdown",
   "id": "3f9718c5",
   "metadata": {},
   "source": [
    "## 1. Calulation of Simple Interest"
   ]
  },
  {
   "cell_type": "code",
   "execution_count": 8,
   "id": "5f086e28",
   "metadata": {},
   "outputs": [
    {
     "name": "stdout",
     "output_type": "stream",
     "text": [
      "Enter the Principle amount:1000\n",
      "Enter the  Interest rate:10\n",
      "Enter the time1\n",
      "-------------------\n",
      "Interest is:100.0\n",
      "-------------------\n",
      "Total Amount = 1100.0\n"
     ]
    }
   ],
   "source": [
    "p = int(input(\"Enter the Principle amount:\"))\n",
    "r = float(input(\"Enter the  Interest rate:\"))\n",
    "t = float(input(\"Enter the time\"))\n",
    "\n",
    "si  = (p * r * t)/100\n",
    "\n",
    "print(\"-------------------\")\n",
    "print(f\"Interest is:{si}\")\n",
    "print(\"-------------------\")\n",
    "print(f\"Total Amount = {p+si}\")"
   ]
  },
  {
   "cell_type": "markdown",
   "id": "c466d130",
   "metadata": {},
   "source": [
    " ## 2. Sum of input  digits "
   ]
  },
  {
   "cell_type": "code",
   "execution_count": 1,
   "id": "6bd033a1",
   "metadata": {},
   "outputs": [
    {
     "name": "stdout",
     "output_type": "stream",
     "text": [
      "Enter the number:12\n",
      "Sum of enterd number is:3\n"
     ]
    }
   ],
   "source": [
    "add = 0\n",
    "num =input(\"Enter the number:\")\n",
    "for i  in num:\n",
    "    add = add+int(i)\n",
    "print(f\"Sum of enterd number is:{add}\")"
   ]
  },
  {
   "cell_type": "markdown",
   "id": "926be458",
   "metadata": {},
   "source": [
    " ## 3. Reverse the entered number"
   ]
  },
  {
   "cell_type": "code",
   "execution_count": 29,
   "id": "3b075c14",
   "metadata": {
    "scrolled": true
   },
   "outputs": [
    {
     "name": "stdout",
     "output_type": "stream",
     "text": [
      "Enter the number:54236851155545584554111\n",
      "11145548554555115863245\n"
     ]
    }
   ],
   "source": [
    "num = input(\"Enter the number:\")\n",
    "print(num[::-1])"
   ]
  },
  {
   "cell_type": "markdown",
   "id": "4f7f4377",
   "metadata": {},
   "source": [
    " ## 4. Area of the triangle."
   ]
  },
  {
   "cell_type": "code",
   "execution_count": 41,
   "id": "308b056f",
   "metadata": {},
   "outputs": [
    {
     "name": "stdout",
     "output_type": "stream",
     "text": [
      "Enter the side of Triangle \n",
      " a:6\n",
      " b:6\n",
      " c:6\n",
      "Area of Triangle is:15.588457268119896\n"
     ]
    }
   ],
   "source": [
    "import math\n",
    "a,b,c = int(input(f\"Enter the side of Triangle \\n a:\")),int(input(\" b:\")),int(input(\" c:\"))\n",
    "\n",
    "s = (a + b + c)/2\n",
    "\n",
    "area = math.sqrt(s * (s-a) * (s-b) * (s-c))\n",
    "print(f\"Area of Triangle is:{area}\")"
   ]
  },
  {
   "cell_type": "markdown",
   "id": "f361440f",
   "metadata": {},
   "source": [
    " ## 5. Cartesian co-ordinates (x, y) of a point and convert them into polar co-ordinates (r,ɸ)"
   ]
  },
  {
   "cell_type": "code",
   "execution_count": 57,
   "id": "45d83045",
   "metadata": {
    "scrolled": true
   },
   "outputs": [
    {
     "name": "stdout",
     "output_type": "stream",
     "text": [
      "Enter the value of x:5.6\n",
      "Enter the value ofy:9.8\n",
      "Entered Cartesian co-ordinates(x,y) are:(5.6,9.8)\n",
      "Polar co-ordinates(r,ɸ) are:(11.28716084761797,1.0516502125483738)\n"
     ]
    }
   ],
   "source": [
    "# Hint: r = sqrt ( x2+ y2) and ɸ = tan-1( y / x )\n",
    "\n",
    "x,y = float(input(\"Enter the value of x:\")),float(input(\"Enter the value ofy:\"))\n",
    "print(f\"Entered Cartesian co-ordinates(x,y) are:({x},{y})\")\n",
    "\n",
    "r = math.sqrt(x**2 + y**2)\n",
    "ɸ =np.arctan((y/x))\n",
    "\n",
    "print(f\"Polar co-ordinates(r,ɸ) are:({r},{ɸ})\")"
   ]
  },
  {
   "cell_type": "markdown",
   "id": "1966b9e7",
   "metadata": {},
   "source": [
    " ## 6. InputTwo places co-ordiantes on the earth and output the distance (D) between them in nautical miles"
   ]
  },
  {
   "cell_type": "code",
   "execution_count": 58,
   "id": "7fbeed85",
   "metadata": {},
   "outputs": [
    {
     "name": "stdout",
     "output_type": "stream",
     "text": [
      "Enter the latitude L1:5\n",
      "Enter the latitude L2:9\n",
      "Enter the longitude G1:7\n",
      "Enter the longitude G2:8.5\n",
      "Distance in nautical miles is:7914.352994492855\n"
     ]
    }
   ],
   "source": [
    "#Hint: D = 3963 cos-1( sin L1 sin L2 + cos L1 cos L2 * cos ( G2 – G1 ) )\n",
    "\n",
    "L1,L2 = float(input(\"Enter the latitude L1:\")),float(input(\"Enter the latitude L2:\"))\n",
    "G1,G2 = float(input(\"Enter the longitude G1:\")),float(input(\"Enter the longitude G2:\"))\n",
    "\n",
    "D = 3963 * np.arccos(np.sin(L1)*np.sin(L2) + np.cos(L1)*np.cos(L2) * np.cos(G2 -G1))\n",
    "\n",
    "print(f\"Distance in nautical miles is:{D}\")\n"
   ]
  },
  {
   "cell_type": "markdown",
   "id": "a9e06ec2",
   "metadata": {},
   "source": [
    "## 7. Wind chill factor is the felt air temperature on exposed skin due to wind. The wind chill temperature is always lower than the air temperature, and is calculated as per the following formula:wcf = 35.74 + 0.6215t + ( 0.4275t - 35.75 ) * v**0.16\n",
    "###  where t is the temperature and v is the wind velocity. Write a program to receive values of t and v and calculate wind chill factor(wcf).\n",
    "\n"
   ]
  },
  {
   "cell_type": "code",
   "execution_count": 2,
   "id": "0091f2a8",
   "metadata": {},
   "outputs": [
    {
     "name": "stdout",
     "output_type": "stream",
     "text": [
      "Enter the Temperature:37.5\n",
      "Enter the Wind Velocity:22\n",
      "Wind Chill Factor is:26.698560957570322\n"
     ]
    }
   ],
   "source": [
    "t = float(input(\"Enter the Temperature:\"))\n",
    "v = float(input(\"Enter the Wind Velocity:\"))\n",
    "\n",
    "wcf = 35.74 + 0.62115*t + (0.4275*t - 35.75) * v ** 0.16\n",
    "\n",
    "print(f\"Wind Chill Factor is:{wcf}\")"
   ]
  },
  {
   "cell_type": "markdown",
   "id": "4d664778",
   "metadata": {},
   "source": [
    "## 8. If value of an angle is input through the keyboard, write a program to print all its Trigonometric ratios.\n"
   ]
  },
  {
   "cell_type": "code",
   "execution_count": 38,
   "id": "dc37e32d",
   "metadata": {},
   "outputs": [
    {
     "name": "stdout",
     "output_type": "stream",
     "text": [
      "Enter the angle:30\n",
      "The trignometric ratios:\n",
      " sin30.0 = 0.49999999999999994 \n",
      " cos30.0 = 0.8660254037844387 \n",
      " tan30.0 = 0.5773502691896257 \n",
      " cot30.0 = 0.48234790710102493 \n",
      " sec30.0 = 1.0197267436954502 \n",
      " cosec30.0 = 0.5510695830994463\n"
     ]
    }
   ],
   "source": [
    "a = float(input(\"Enter the angle:\"))\n",
    "angle = math.radians(a)\n",
    "sin = math.sin(angle)\n",
    "cos = math.cos(angle)\n",
    "tan = math.tan(angle)\n",
    "cot = math.atan(angle)\n",
    "sec = math.acos(angle)\n",
    "cosec =math.asin(angle)\n",
    "\n",
    "print(f\"The trignometric ratios:\\n sin{a} = {sin} \\n cos{a} = {cos} \\n tan{a} = {tan} \\n cot{a} = {cot} \\n sec{a} = {sec} \\n cosec{a} = {cosec}\")"
   ]
  },
  {
   "cell_type": "markdown",
   "id": "39c68076",
   "metadata": {},
   "source": [
    "## 9. Two numbers are input through the keyboard into two locations C and D. Write a program to interchange the contents of C and D."
   ]
  },
  {
   "cell_type": "code",
   "execution_count": 20,
   "id": "74591178",
   "metadata": {},
   "outputs": [
    {
     "name": "stdout",
     "output_type": "stream",
     "text": [
      "Enter first number c:15\n",
      "Enter second number d:25\n",
      " Value c:25.0 \n",
      " Value of d:15.0\n"
     ]
    }
   ],
   "source": [
    "c = float(input(\"Enter first number c:\"))\n",
    "d = float(input(\"Enter second number d:\"))\n",
    "\n",
    "#by using temp variable\n",
    "temp = c\n",
    "c = d\n",
    "d = temp\n",
    "\n",
    "print(f\" Value c:{c} \\n Value of d:{d}\")"
   ]
  },
  {
   "cell_type": "code",
   "execution_count": 21,
   "id": "38fe2164",
   "metadata": {},
   "outputs": [
    {
     "name": "stdout",
     "output_type": "stream",
     "text": [
      "Enter first number c:8.5\n",
      "Enter second number d:6.5\n",
      " Value c:6.5 \n",
      " Value of d:8.5\n"
     ]
    }
   ],
   "source": [
    "c = float(input(\"Enter first number c:\"))\n",
    "d = float(input(\"Enter second number d:\"))\n",
    "\n",
    "# swapping values without using third variable\n",
    "c,d = d,c\n",
    "\n",
    "print(f\" Value c:{c} \\n Value of d:{d}\")"
   ]
  },
  {
   "cell_type": "code",
   "execution_count": 23,
   "id": "ae78ea33",
   "metadata": {},
   "outputs": [
    {
     "name": "stdout",
     "output_type": "stream",
     "text": [
      "Enter first number c:56\n",
      "Enter second number d:25\n",
      " Value c:25 \n",
      " Value of d:56\n"
     ]
    }
   ],
   "source": [
    "c = int(input(\"Enter first number c:\"))\n",
    "d = int(input(\"Enter second number d:\"))\n",
    "\n",
    "# swapping values using XOR\n",
    "c = c ^ d\n",
    "d = c ^ d\n",
    "c = c ^ d\n",
    "\n",
    "print(f\" Value c:{c} \\n Value of d:{d}\")"
   ]
  },
  {
   "cell_type": "code",
   "execution_count": 24,
   "id": "d9bbcdd6",
   "metadata": {},
   "outputs": [
    {
     "name": "stdout",
     "output_type": "stream",
     "text": [
      "Enter first number c:25\n",
      "Enter second number d:50\n",
      " Value c:50.0 \n",
      " Value of d:25.0\n"
     ]
    }
   ],
   "source": [
    "c = float(input(\"Enter first number c:\"))\n",
    "d = float(input(\"Enter second number d:\"))\n",
    "\n",
    "# swapping values using arthmatic\n",
    "c = c + d\n",
    "d = c - d\n",
    "c = c - d\n",
    "\n",
    "print(f\" Value c:{c} \\n Value of d:{d}\")"
   ]
  },
  {
   "cell_type": "code",
   "execution_count": 26,
   "id": "6409d018",
   "metadata": {},
   "outputs": [
    {
     "name": "stdout",
     "output_type": "stream",
     "text": [
      "Enter first number c:15\n",
      "Enter second number d:26\n",
      " Value c:26 \n",
      " Value of d:15\n"
     ]
    }
   ],
   "source": [
    "c = int(input(\"Enter first number c:\"))\n",
    "d = int(input(\"Enter second number d:\"))\n",
    "\n",
    "# swapping values using bitwise \n",
    "c = (c & d)+(c | d)\n",
    "d = c + (~d) + 1\n",
    "c = c + (~d) + 1\n",
    "\n",
    "\n",
    "print(f\" Value c:{c} \\n Value of d:{d}\")"
   ]
  },
  {
   "cell_type": "markdown",
   "id": "43cfc195",
   "metadata": {},
   "source": [
    "## 10. Consider a currency system in which there are notes of seven denominations, namely, Re. 1, Rs. 2, Rs. 5, Rs. 10, Rs. 50, Rs. 100. If a sum of Rs. N is entered through the keyboard, write a program to compute the smallest number of notes that will combine to give Rs. N"
   ]
  },
  {
   "cell_type": "code",
   "execution_count": 1,
   "id": "89c746d2",
   "metadata": {},
   "outputs": [
    {
     "name": "stdout",
     "output_type": "stream",
     "text": [
      "Enter the amount :559\n",
      "Currency count:\n",
      "100 : 5\n",
      "50 : 1\n",
      "5 : 1\n",
      "2 : 2\n"
     ]
    }
   ],
   "source": [
    "currency = [100, 50 , 10 , 5 , 2 ,1]\n",
    "amount = int(input(\"Enter the amount :\"))\n",
    "notescount = {}\n",
    "\n",
    "for note in currency:\n",
    "    if amount >= note:\n",
    "        notescount[note] = amount//note\n",
    "        amount = amount % note\n",
    "        \n",
    "print(\"Currency count:\")\n",
    "for key,val in notescount.items():\n",
    "    print(f\"{key} : {val}\")\n",
    "    "
   ]
  },
  {
   "cell_type": "markdown",
   "id": "693bc56c",
   "metadata": {},
   "source": [
    "## 11. Read a given string, change the character at a given index and then print the modified string."
   ]
  },
  {
   "cell_type": "code",
   "execution_count": 1,
   "id": "a5013cde",
   "metadata": {},
   "outputs": [
    {
     "data": {
      "text/plain": [
       "'SanjayKumar'"
      ]
     },
     "execution_count": 1,
     "metadata": {},
     "output_type": "execute_result"
    }
   ],
   "source": [
    "# Method 1 (slice the string and join it back)\n",
    "def mutate_string(string, position, character):\n",
    "    string = string[:position] + character + string[position+1:]\n",
    "    return string\n",
    "\n",
    "mutate_string('SanjeyKumar',4,'a')"
   ]
  },
  {
   "cell_type": "code",
   "execution_count": 2,
   "id": "5949d582",
   "metadata": {},
   "outputs": [
    {
     "data": {
      "text/plain": [
       "'SanjayKumar'"
      ]
     },
     "execution_count": 2,
     "metadata": {},
     "output_type": "execute_result"
    }
   ],
   "source": [
    "# Method 2 (convert the string to a list and then change the value)\n",
    "def mutate_string(string, position, character):\n",
    "    l = list(string)\n",
    "    l[position] = character\n",
    "    string = ''.join(l)\n",
    "    return string\n",
    "\n",
    "mutate_string('SanjeyKumar',4,'a')"
   ]
  },
  {
   "cell_type": "markdown",
   "id": "fb33a3fd",
   "metadata": {},
   "source": [
    "## 12. Print the Pyramid star pattern."
   ]
  },
  {
   "cell_type": "code",
   "execution_count": 6,
   "id": "dbc37ec5",
   "metadata": {},
   "outputs": [
    {
     "name": "stdout",
     "output_type": "stream",
     "text": [
      "Enter the number of rows:5\n",
      "    * \n",
      "   * * \n",
      "  * * * \n",
      " * * * * \n",
      "* * * * * \n"
     ]
    }
   ],
   "source": [
    "n = int(input(\"Enter the number of rows:\"))\n",
    "\n",
    "for i in range(1,n+1):\n",
    "    print(\" \"*(n-i),end=\"\")\n",
    "    print(\"* \" * i)"
   ]
  },
  {
   "cell_type": "markdown",
   "id": "bbeeca74",
   "metadata": {},
   "source": [
    "## 13. Print table of number1 and number2"
   ]
  },
  {
   "cell_type": "code",
   "execution_count": 9,
   "id": "1578ebcc",
   "metadata": {},
   "outputs": [
    {
     "name": "stdout",
     "output_type": "stream",
     "text": [
      "Enter a number1:5\n",
      "Enter a number2:12\n",
      "The entered numbers are 5 and 12.\n",
      "5 x 0 = 0 , 12 x 0 = 0\n",
      "5 x 1 = 5 , 12 x 1 = 12\n",
      "5 x 2 = 10 , 12 x 2 = 24\n",
      "5 x 3 = 15 , 12 x 3 = 36\n",
      "5 x 4 = 20 , 12 x 4 = 48\n",
      "5 x 5 = 25 , 12 x 5 = 60\n",
      "5 x 6 = 30 , 12 x 6 = 72\n",
      "5 x 7 = 35 , 12 x 7 = 84\n",
      "5 x 8 = 40 , 12 x 8 = 96\n",
      "5 x 9 = 45 , 12 x 9 = 108\n",
      "5 x 10 = 50 , 12 x 10 = 120\n"
     ]
    }
   ],
   "source": [
    "number1 = int(input('Enter a number1:'))\n",
    "number2 = int(input('Enter a number2:'))\n",
    "print(f'The entered numbers are {number1} and {number2}.')\n",
    "for i in range(0, 11):\n",
    " print(('%d x %d = %d' %(number1, i, number1*i)), ',',('%d x %d = %d' %(number2, i, number2*i )))"
   ]
  },
  {
   "cell_type": "markdown",
   "id": "b8a5e368",
   "metadata": {},
   "source": [
    "## 14. Define a list by using user input and filter even numbers using lambda function."
   ]
  },
  {
   "cell_type": "code",
   "execution_count": 16,
   "id": "3c00147e",
   "metadata": {},
   "outputs": [
    {
     "name": "stdout",
     "output_type": "stream",
     "text": [
      "Enter length of list:  5\n",
      "Enter the element0 of list: 12\n",
      "Enter the element1 of list: 7\n",
      "Enter the element2 of list: 9\n",
      "Enter the element3 of list: 6\n",
      "Enter the element4 of list: 3\n",
      "[12, 7, 9, 6, 3]\n",
      "Filtered list [12, 6]\n"
     ]
    }
   ],
   "source": [
    "n = int(input(\"Enter length of list:  \"))\n",
    "data = []\n",
    "\n",
    "for i in range(n):\n",
    "    ele = int(input(f\"Enter the element{i} of list: \"))\n",
    "    data.append(ele)\n",
    "print(data)\n",
    "\n",
    "# def  div(a):\n",
    "#     return a%2==0\n",
    "# result = filter(div,data)\n",
    "# print(list(result))\n",
    "\n",
    "result = filter(lambda a: a%2==0,data)\n",
    "print(\"Filtered list\",list(result))"
   ]
  },
  {
   "cell_type": "markdown",
   "id": "3b33ab8a",
   "metadata": {},
   "source": [
    "## 15. Find Factorial of n number using recursive function"
   ]
  },
  {
   "cell_type": "code",
   "execution_count": 20,
   "id": "72b7117a",
   "metadata": {},
   "outputs": [
    {
     "name": "stdout",
     "output_type": "stream",
     "text": [
      "Enter the number: 10\n",
      "Factorial of 10 is: 3628800\n"
     ]
    }
   ],
   "source": [
    "# fact(5) = 5*4*3*2*1 = 5*fact(4)\n",
    "# fact(4) = 4*3*2*1  = 4* fact(3)\n",
    "# fact(3) = 3*fact(2)\n",
    "# fact(2) = 2*fact(1)\n",
    "# fact(1) = 1\n",
    "\n",
    "\n",
    "def fact(num):\n",
    "    if num == 1:\n",
    "        return 1\n",
    "    return num * fact(num-1)\n",
    "\n",
    "n = int(input(\"Enter the number: \"))\n",
    "print(f\"Factorial of {n} is: {fact(n)}\")"
   ]
  },
  {
   "cell_type": "markdown",
   "id": "dcf47ad2",
   "metadata": {},
   "source": [
    "## 16. Write code to display Question, options and check answers using sample data\n",
    "sample = {\n",
    "    \"quiz\": {\n",
    "        \"maths\": {\n",
    "            \"q1\": {\n",
    "                \"question\": \"5 + 7 = ?\",\n",
    "                \"options\": [\n",
    "                    \"10\",\n",
    "                    \"11\",\n",
    "                    \"12\",\n",
    "                    \"13\"\n",
    "                ],\n",
    "                \"answer\": \"12\"\n",
    "            },\n",
    "            \"q2\": {\n",
    "                \"question\": \"12 - 8 = ?\",\n",
    "                \"options\": [\n",
    "                    \"1\",\n",
    "                    \"2\",\n",
    "                    \"3\",\n",
    "                    \"4\"\n",
    "                ],\n",
    "                \"answer\": \"4\"\n",
    "            }\n",
    "        }\n",
    "    }\n",
    "}\n"
   ]
  },
  {
   "cell_type": "code",
   "execution_count": 21,
   "id": "9c001f88",
   "metadata": {},
   "outputs": [
    {
     "name": "stdout",
     "output_type": "stream",
     "text": [
      "5 + 7 = ?\n",
      "10\n",
      "11\n",
      "12\n",
      "13\n",
      "Enter the your answer12\n",
      "Correct Answer\n",
      "12 - 8 = ?\n",
      "1\n",
      "2\n",
      "3\n",
      "4\n",
      "Enter the your answer3\n",
      "Incorrect Answer\n"
     ]
    }
   ],
   "source": [
    "sample = {\n",
    "    \"quiz\": {\n",
    "        \"maths\": {\n",
    "            \"q1\": {\n",
    "                \"question\": \"5 + 7 = ?\",\n",
    "                \"options\": [\n",
    "                    \"10\",\n",
    "                    \"11\",\n",
    "                    \"12\",\n",
    "                    \"13\"\n",
    "                ],\n",
    "                \"answer\": \"12\"\n",
    "            },\n",
    "            \"q2\": {\n",
    "                \"question\": \"12 - 8 = ?\",\n",
    "                \"options\": [\n",
    "                    \"1\",\n",
    "                    \"2\",\n",
    "                    \"3\",\n",
    "                    \"4\"\n",
    "                ],\n",
    "                \"answer\": \"4\"\n",
    "            }\n",
    "        }\n",
    "    }\n",
    "}\n",
    "\n",
    "\n",
    "tempDict = sample[\"quiz\"][\"maths\"]\n",
    "for item in tempDict:\n",
    "    print(tempDict[item]['question'])\n",
    "    for option in tempDict[item]['options']:\n",
    "        print(option)\n",
    "    answer = int(input(\"Enter the your answer\"))\n",
    "    if answer == int(tempDict[item]['answer']):\n",
    "        print(\"Correct Answer\")\n",
    "    else:\n",
    "        print(\"Incorrect Answer\")"
   ]
  },
  {
   "cell_type": "markdown",
   "id": "30d733d1",
   "metadata": {},
   "source": [
    "## 17 . Write program to convert string date"
   ]
  },
  {
   "cell_type": "code",
   "execution_count": 22,
   "id": "3549a3db",
   "metadata": {},
   "outputs": [
    {
     "name": "stdout",
     "output_type": "stream",
     "text": [
      "2001-12-01 <class 'str'>\n",
      "2001-12-01 <class 'datetime.date'>\n"
     ]
    }
   ],
   "source": [
    "from datetime import datetime\n",
    "\n",
    "a = '2001-12-01'\n",
    "print(a,type(a))\n",
    "b = datetime.strptime(a, '%Y-%m-%d').date()\n",
    "print(b,type(b))\n"
   ]
  },
  {
   "cell_type": "code",
   "execution_count": 23,
   "id": "d6da2298",
   "metadata": {},
   "outputs": [
    {
     "name": "stdout",
     "output_type": "stream",
     "text": [
      "2001-December-01 <class 'str'>\n",
      "2001-12-01 <class 'datetime.date'>\n"
     ]
    }
   ],
   "source": [
    "a = '2001-December-01'\n",
    "print(a,type(a))\n",
    "b = datetime.strptime(a, '%Y-%B-%d').date()\n",
    "print(b,type(b))"
   ]
  },
  {
   "cell_type": "code",
   "execution_count": 24,
   "id": "e8ad78e2",
   "metadata": {},
   "outputs": [
    {
     "name": "stdout",
     "output_type": "stream",
     "text": [
      "3:26:50 pm <class 'str'>\n",
      "03:26:50 <class 'datetime.time'>\n"
     ]
    }
   ],
   "source": [
    "a = '3:26:50 pm'\n",
    "print(a,type(a))\n",
    "b = datetime.strptime(a, '%H:%M:%S %p').time()\n",
    "print(b,type(b))"
   ]
  },
  {
   "cell_type": "code",
   "execution_count": 25,
   "id": "0f5383da",
   "metadata": {},
   "outputs": [
    {
     "name": "stdout",
     "output_type": "stream",
     "text": [
      "12/12/2022 15.13.10 <class 'str'>\n",
      "2022-12-12 15:13:10 <class 'datetime.datetime'>\n"
     ]
    }
   ],
   "source": [
    "date = '12/12/2022 15.13.10'\n",
    "print(date,type(date))\n",
    "\n",
    "Date_format = datetime.strptime(date, '%d/%m/%Y %H.%M.%S')\n",
    "print(Date_format,type(Date_format))"
   ]
  },
  {
   "cell_type": "markdown",
   "id": "5855e058",
   "metadata": {},
   "source": [
    "## 18. Take a string as input and reverse it."
   ]
  },
  {
   "cell_type": "code",
   "execution_count": 27,
   "id": "0e875e68",
   "metadata": {},
   "outputs": [
    {
     "name": "stdout",
     "output_type": "stream",
     "text": [
      "Enter the string:SnajayKumar\n",
      "ramuKyajanS\n"
     ]
    }
   ],
   "source": [
    "string = input(\"Enter the string:\")\n",
    "reverse = string[::-1]\n",
    "print(reverse)"
   ]
  },
  {
   "cell_type": "markdown",
   "id": "a46f880a",
   "metadata": {},
   "source": [
    "## 19. Take a string as input and reverse it, replace string vowels with -\n",
    "**a=0, e=1, i =2, o = 2, u = 3**"
   ]
  },
  {
   "cell_type": "code",
   "execution_count": 40,
   "id": "4dc595fc",
   "metadata": {},
   "outputs": [
    {
     "name": "stdout",
     "output_type": "stream",
     "text": [
      "Enter the string:i eat apple\n",
      "elppa tae i\n",
      "[2, 'l', 'p', 'p', 2, ' ', 't', 2, 2, ' ', 2]\n",
      "[ 2 ,   ' l ' ,   ' p ' ,   ' p ' ,   2 ,   '   ' ,   ' t ' ,   2 ,   2 ,   '   ' ,   2 ] <class 'str'>\n"
     ]
    }
   ],
   "source": [
    "string = input(\"Enter the string:\")\n",
    "\n",
    "reverse = string[::-1]\n",
    "print(reverse)\n",
    "\n",
    "b = []\n",
    "for i in reverse:\n",
    "    if i in ('a','e','i','o','u'):\n",
    "        a=0\n",
    "        e=1\n",
    "        i =2\n",
    "        o = 2\n",
    "        u = 3\n",
    "    b.append(i)\n",
    "print(b)\n",
    "c= str(b)\n",
    "print(*c,type(c))"
   ]
  },
  {
   "cell_type": "code",
   "execution_count": null,
   "id": "35d96859",
   "metadata": {},
   "outputs": [],
   "source": []
  },
  {
   "cell_type": "code",
   "execution_count": null,
   "id": "24cd7781",
   "metadata": {},
   "outputs": [],
   "source": []
  }
 ],
 "metadata": {
  "kernelspec": {
   "display_name": "Python 3 (ipykernel)",
   "language": "python",
   "name": "python3"
  },
  "language_info": {
   "codemirror_mode": {
    "name": "ipython",
    "version": 3
   },
   "file_extension": ".py",
   "mimetype": "text/x-python",
   "name": "python",
   "nbconvert_exporter": "python",
   "pygments_lexer": "ipython3",
   "version": "3.11.3"
  }
 },
 "nbformat": 4,
 "nbformat_minor": 5
}
