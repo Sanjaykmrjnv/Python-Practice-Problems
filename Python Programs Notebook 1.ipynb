{
 "cells": [
  {
   "cell_type": "code",
   "execution_count": 1,
   "id": "7e22d075",
   "metadata": {},
   "outputs": [],
   "source": [
    "# importing library\n",
    "import numpy as np\n",
    "import math"
   ]
  },
  {
   "cell_type": "markdown",
   "id": "3f9718c5",
   "metadata": {},
   "source": [
    "## 1. Calulation of Simple Interest"
   ]
  },
  {
   "cell_type": "code",
   "execution_count": 8,
   "id": "5f086e28",
   "metadata": {},
   "outputs": [
    {
     "name": "stdout",
     "output_type": "stream",
     "text": [
      "Enter the Principle amount:1000\n",
      "Enter the  Interest rate:10\n",
      "Enter the time1\n",
      "-------------------\n",
      "Interest is:100.0\n",
      "-------------------\n",
      "Total Amount = 1100.0\n"
     ]
    }
   ],
   "source": [
    "p = int(input(\"Enter the Principle amount:\"))\n",
    "r = float(input(\"Enter the  Interest rate:\"))\n",
    "t = float(input(\"Enter the time\"))\n",
    "\n",
    "si  = (p * r * t)/100\n",
    "\n",
    "print(\"-------------------\")\n",
    "print(f\"Interest is:{si}\")\n",
    "print(\"-------------------\")\n",
    "print(f\"Total Amount = {p+si}\")"
   ]
  },
  {
   "cell_type": "markdown",
   "id": "c466d130",
   "metadata": {},
   "source": [
    " ## 2. Sum of input  digits "
   ]
  },
  {
   "cell_type": "code",
   "execution_count": 1,
   "id": "6bd033a1",
   "metadata": {},
   "outputs": [
    {
     "name": "stdout",
     "output_type": "stream",
     "text": [
      "Enter the number:12\n",
      "Sum of enterd number is:3\n"
     ]
    }
   ],
   "source": [
    "add = 0\n",
    "num =input(\"Enter the number:\")\n",
    "for i  in num:\n",
    "    add = add+int(i)\n",
    "print(f\"Sum of enterd number is:{add}\")"
   ]
  },
  {
   "cell_type": "markdown",
   "id": "926be458",
   "metadata": {},
   "source": [
    " ## 3. Reverse the entered number"
   ]
  },
  {
   "cell_type": "code",
   "execution_count": 29,
   "id": "3b075c14",
   "metadata": {
    "scrolled": true
   },
   "outputs": [
    {
     "name": "stdout",
     "output_type": "stream",
     "text": [
      "Enter the number:54236851155545584554111\n",
      "11145548554555115863245\n"
     ]
    }
   ],
   "source": [
    "num = input(\"Enter the number:\")\n",
    "print(num[::-1])"
   ]
  },
  {
   "cell_type": "markdown",
   "id": "4f7f4377",
   "metadata": {},
   "source": [
    " ## 4. Area of the triangle."
   ]
  },
  {
   "cell_type": "code",
   "execution_count": 41,
   "id": "308b056f",
   "metadata": {},
   "outputs": [
    {
     "name": "stdout",
     "output_type": "stream",
     "text": [
      "Enter the side of Triangle \n",
      " a:6\n",
      " b:6\n",
      " c:6\n",
      "Area of Triangle is:15.588457268119896\n"
     ]
    }
   ],
   "source": [
    "import math\n",
    "a,b,c = int(input(f\"Enter the side of Triangle \\n a:\")),int(input(\" b:\")),int(input(\" c:\"))\n",
    "\n",
    "s = (a + b + c)/2\n",
    "\n",
    "area = math.sqrt(s * (s-a) * (s-b) * (s-c))\n",
    "print(f\"Area of Triangle is:{area}\")"
   ]
  },
  {
   "cell_type": "markdown",
   "id": "f361440f",
   "metadata": {},
   "source": [
    " ## 5. Cartesian co-ordinates (x, y) of a point and convert them into polar co-ordinates (r,ɸ)"
   ]
  },
  {
   "cell_type": "code",
   "execution_count": 57,
   "id": "45d83045",
   "metadata": {
    "scrolled": true
   },
   "outputs": [
    {
     "name": "stdout",
     "output_type": "stream",
     "text": [
      "Enter the value of x:5.6\n",
      "Enter the value ofy:9.8\n",
      "Entered Cartesian co-ordinates(x,y) are:(5.6,9.8)\n",
      "Polar co-ordinates(r,ɸ) are:(11.28716084761797,1.0516502125483738)\n"
     ]
    }
   ],
   "source": [
    "# Hint: r = sqrt ( x2+ y2) and ɸ = tan-1( y / x )\n",
    "\n",
    "x,y = float(input(\"Enter the value of x:\")),float(input(\"Enter the value ofy:\"))\n",
    "print(f\"Entered Cartesian co-ordinates(x,y) are:({x},{y})\")\n",
    "\n",
    "r = math.sqrt(x**2 + y**2)\n",
    "ɸ =np.arctan((y/x))\n",
    "\n",
    "print(f\"Polar co-ordinates(r,ɸ) are:({r},{ɸ})\")"
   ]
  },
  {
   "cell_type": "markdown",
   "id": "1966b9e7",
   "metadata": {},
   "source": [
    " ## 6. InputTwo places co-ordiantes on the earth and output the distance (D) between them in nautical miles"
   ]
  },
  {
   "cell_type": "code",
   "execution_count": 58,
   "id": "7fbeed85",
   "metadata": {},
   "outputs": [
    {
     "name": "stdout",
     "output_type": "stream",
     "text": [
      "Enter the latitude L1:5\n",
      "Enter the latitude L2:9\n",
      "Enter the longitude G1:7\n",
      "Enter the longitude G2:8.5\n",
      "Distance in nautical miles is:7914.352994492855\n"
     ]
    }
   ],
   "source": [
    "#Hint: D = 3963 cos-1( sin L1 sin L2 + cos L1 cos L2 * cos ( G2 – G1 ) )\n",
    "\n",
    "L1,L2 = float(input(\"Enter the latitude L1:\")),float(input(\"Enter the latitude L2:\"))\n",
    "G1,G2 = float(input(\"Enter the longitude G1:\")),float(input(\"Enter the longitude G2:\"))\n",
    "\n",
    "D = 3963 * np.arccos(np.sin(L1)*np.sin(L2) + np.cos(L1)*np.cos(L2) * np.cos(G2 -G1))\n",
    "\n",
    "print(f\"Distance in nautical miles is:{D}\")\n"
   ]
  },
  {
   "cell_type": "markdown",
   "id": "a9e06ec2",
   "metadata": {},
   "source": [
    "## 7. Wind chill factor is the felt air temperature on exposed skin due to wind. The wind chill temperature is always lower than the air temperature, and is calculated as per the following formula:wcf = 35.74 + 0.6215t + ( 0.4275t - 35.75 ) * v**0.16\n",
    "###  where t is the temperature and v is the wind velocity. Write a program to receive values of t and v and calculate wind chill factor(wcf).\n",
    "\n"
   ]
  },
  {
   "cell_type": "code",
   "execution_count": 2,
   "id": "0091f2a8",
   "metadata": {},
   "outputs": [
    {
     "name": "stdout",
     "output_type": "stream",
     "text": [
      "Enter the Temperature:37.5\n",
      "Enter the Wind Velocity:22\n",
      "Wind Chill Factor is:26.698560957570322\n"
     ]
    }
   ],
   "source": [
    "t = float(input(\"Enter the Temperature:\"))\n",
    "v = float(input(\"Enter the Wind Velocity:\"))\n",
    "\n",
    "wcf = 35.74 + 0.62115*t + (0.4275*t - 35.75) * v ** 0.16\n",
    "\n",
    "print(f\"Wind Chill Factor is:{wcf}\")"
   ]
  },
  {
   "cell_type": "markdown",
   "id": "4d664778",
   "metadata": {},
   "source": [
    "## 8. If value of an angle is input through the keyboard, write a program to print all its Trigonometric ratios.\n"
   ]
  },
  {
   "cell_type": "code",
   "execution_count": 38,
   "id": "dc37e32d",
   "metadata": {},
   "outputs": [
    {
     "name": "stdout",
     "output_type": "stream",
     "text": [
      "Enter the angle:30\n",
      "The trignometric ratios:\n",
      " sin30.0 = 0.49999999999999994 \n",
      " cos30.0 = 0.8660254037844387 \n",
      " tan30.0 = 0.5773502691896257 \n",
      " cot30.0 = 0.48234790710102493 \n",
      " sec30.0 = 1.0197267436954502 \n",
      " cosec30.0 = 0.5510695830994463\n"
     ]
    }
   ],
   "source": [
    "a = float(input(\"Enter the angle:\"))\n",
    "angle = math.radians(a)\n",
    "sin = math.sin(angle)\n",
    "cos = math.cos(angle)\n",
    "tan = math.tan(angle)\n",
    "cot = math.atan(angle)\n",
    "sec = math.acos(angle)\n",
    "cosec =math.asin(angle)\n",
    "\n",
    "print(f\"The trignometric ratios:\\n sin{a} = {sin} \\n cos{a} = {cos} \\n tan{a} = {tan} \\n cot{a} = {cot} \\n sec{a} = {sec} \\n cosec{a} = {cosec}\")"
   ]
  },
  {
   "cell_type": "markdown",
   "id": "39c68076",
   "metadata": {},
   "source": [
    "## 9. Two numbers are input through the keyboard into two locations C and D. Write a program to interchange the contents of C and D."
   ]
  },
  {
   "cell_type": "code",
   "execution_count": 20,
   "id": "74591178",
   "metadata": {},
   "outputs": [
    {
     "name": "stdout",
     "output_type": "stream",
     "text": [
      "Enter first number c:15\n",
      "Enter second number d:25\n",
      " Value c:25.0 \n",
      " Value of d:15.0\n"
     ]
    }
   ],
   "source": [
    "c = float(input(\"Enter first number c:\"))\n",
    "d = float(input(\"Enter second number d:\"))\n",
    "\n",
    "#by using temp variable\n",
    "temp = c\n",
    "c = d\n",
    "d = temp\n",
    "\n",
    "print(f\" Value c:{c} \\n Value of d:{d}\")"
   ]
  },
  {
   "cell_type": "code",
   "execution_count": 21,
   "id": "38fe2164",
   "metadata": {},
   "outputs": [
    {
     "name": "stdout",
     "output_type": "stream",
     "text": [
      "Enter first number c:8.5\n",
      "Enter second number d:6.5\n",
      " Value c:6.5 \n",
      " Value of d:8.5\n"
     ]
    }
   ],
   "source": [
    "c = float(input(\"Enter first number c:\"))\n",
    "d = float(input(\"Enter second number d:\"))\n",
    "\n",
    "# swapping values without using third variable\n",
    "c,d = d,c\n",
    "\n",
    "print(f\" Value c:{c} \\n Value of d:{d}\")"
   ]
  },
  {
   "cell_type": "code",
   "execution_count": 23,
   "id": "ae78ea33",
   "metadata": {},
   "outputs": [
    {
     "name": "stdout",
     "output_type": "stream",
     "text": [
      "Enter first number c:56\n",
      "Enter second number d:25\n",
      " Value c:25 \n",
      " Value of d:56\n"
     ]
    }
   ],
   "source": [
    "c = int(input(\"Enter first number c:\"))\n",
    "d = int(input(\"Enter second number d:\"))\n",
    "\n",
    "# swapping values using XOR\n",
    "c = c ^ d\n",
    "d = c ^ d\n",
    "c = c ^ d\n",
    "\n",
    "print(f\" Value c:{c} \\n Value of d:{d}\")"
   ]
  },
  {
   "cell_type": "code",
   "execution_count": 24,
   "id": "d9bbcdd6",
   "metadata": {},
   "outputs": [
    {
     "name": "stdout",
     "output_type": "stream",
     "text": [
      "Enter first number c:25\n",
      "Enter second number d:50\n",
      " Value c:50.0 \n",
      " Value of d:25.0\n"
     ]
    }
   ],
   "source": [
    "c = float(input(\"Enter first number c:\"))\n",
    "d = float(input(\"Enter second number d:\"))\n",
    "\n",
    "# swapping values using arthmatic\n",
    "c = c + d\n",
    "d = c - d\n",
    "c = c - d\n",
    "\n",
    "print(f\" Value c:{c} \\n Value of d:{d}\")"
   ]
  },
  {
   "cell_type": "code",
   "execution_count": 26,
   "id": "6409d018",
   "metadata": {},
   "outputs": [
    {
     "name": "stdout",
     "output_type": "stream",
     "text": [
      "Enter first number c:15\n",
      "Enter second number d:26\n",
      " Value c:26 \n",
      " Value of d:15\n"
     ]
    }
   ],
   "source": [
    "c = int(input(\"Enter first number c:\"))\n",
    "d = int(input(\"Enter second number d:\"))\n",
    "\n",
    "# swapping values using bitwise \n",
    "c = (c & d)+(c | d)\n",
    "d = c + (~d) + 1\n",
    "c = c + (~d) + 1\n",
    "\n",
    "\n",
    "print(f\" Value c:{c} \\n Value of d:{d}\")"
   ]
  },
  {
   "cell_type": "markdown",
   "id": "43cfc195",
   "metadata": {},
   "source": [
    "## 10. Consider a currency system in which there are notes of seven denominations, namely, Re. 1, Rs. 2, Rs. 5, Rs. 10, Rs. 50, Rs. 100. If a sum of Rs. N is entered through the keyboard, write a program to compute the smallest number of notes that will combine to give Rs. N"
   ]
  },
  {
   "cell_type": "code",
   "execution_count": 1,
   "id": "89c746d2",
   "metadata": {},
   "outputs": [
    {
     "name": "stdout",
     "output_type": "stream",
     "text": [
      "Enter the amount :559\n",
      "Currency count:\n",
      "100 : 5\n",
      "50 : 1\n",
      "5 : 1\n",
      "2 : 2\n"
     ]
    }
   ],
   "source": [
    "currency = [100, 50 , 10 , 5 , 2 ,1]\n",
    "amount = int(input(\"Enter the amount :\"))\n",
    "notescount = {}\n",
    "\n",
    "for note in currency:\n",
    "    if amount >= note:\n",
    "        notescount[note] = amount//note\n",
    "        amount = amount % note\n",
    "        \n",
    "print(\"Currency count:\")\n",
    "for key,val in notescount.items():\n",
    "    print(f\"{key} : {val}\")\n",
    "    "
   ]
  },
  {
   "cell_type": "markdown",
   "id": "693bc56c",
   "metadata": {},
   "source": [
    "## 11. Read a given string, change the character at a given index and then print the modified string."
   ]
  },
  {
   "cell_type": "code",
   "execution_count": 1,
   "id": "a5013cde",
   "metadata": {},
   "outputs": [
    {
     "data": {
      "text/plain": [
       "'SanjayKumar'"
      ]
     },
     "execution_count": 1,
     "metadata": {},
     "output_type": "execute_result"
    }
   ],
   "source": [
    "# Method 1 (slice the string and join it back)\n",
    "def mutate_string(string, position, character):\n",
    "    string = string[:position] + character + string[position+1:]\n",
    "    return string\n",
    "\n",
    "mutate_string('SanjeyKumar',4,'a')"
   ]
  },
  {
   "cell_type": "code",
   "execution_count": 2,
   "id": "5949d582",
   "metadata": {},
   "outputs": [
    {
     "data": {
      "text/plain": [
       "'SanjayKumar'"
      ]
     },
     "execution_count": 2,
     "metadata": {},
     "output_type": "execute_result"
    }
   ],
   "source": [
    "# Method 2 (convert the string to a list and then change the value)\n",
    "def mutate_string(string, position, character):\n",
    "    l = list(string)\n",
    "    l[position] = character\n",
    "    string = ''.join(l)\n",
    "    return string\n",
    "\n",
    "mutate_string('SanjeyKumar',4,'a')"
   ]
  },
  {
   "cell_type": "markdown",
   "id": "fb33a3fd",
   "metadata": {},
   "source": [
    "## 12. Print the Pyramid star pattern."
   ]
  },
  {
   "cell_type": "code",
   "execution_count": 6,
   "id": "dbc37ec5",
   "metadata": {},
   "outputs": [
    {
     "name": "stdout",
     "output_type": "stream",
     "text": [
      "Enter the number of rows:5\n",
      "    * \n",
      "   * * \n",
      "  * * * \n",
      " * * * * \n",
      "* * * * * \n"
     ]
    }
   ],
   "source": [
    "n = int(input(\"Enter the number of rows:\"))\n",
    "\n",
    "for i in range(1,n+1):\n",
    "    print(\" \"*(n-i),end=\"\")\n",
    "    print(\"* \" * i)"
   ]
  },
  {
   "cell_type": "markdown",
   "id": "bbeeca74",
   "metadata": {},
   "source": [
    "## 13. Print table of number1 and number2"
   ]
  },
  {
   "cell_type": "code",
   "execution_count": 9,
   "id": "1578ebcc",
   "metadata": {},
   "outputs": [
    {
     "name": "stdout",
     "output_type": "stream",
     "text": [
      "Enter a number1:5\n",
      "Enter a number2:12\n",
      "The entered numbers are 5 and 12.\n",
      "5 x 0 = 0 , 12 x 0 = 0\n",
      "5 x 1 = 5 , 12 x 1 = 12\n",
      "5 x 2 = 10 , 12 x 2 = 24\n",
      "5 x 3 = 15 , 12 x 3 = 36\n",
      "5 x 4 = 20 , 12 x 4 = 48\n",
      "5 x 5 = 25 , 12 x 5 = 60\n",
      "5 x 6 = 30 , 12 x 6 = 72\n",
      "5 x 7 = 35 , 12 x 7 = 84\n",
      "5 x 8 = 40 , 12 x 8 = 96\n",
      "5 x 9 = 45 , 12 x 9 = 108\n",
      "5 x 10 = 50 , 12 x 10 = 120\n"
     ]
    }
   ],
   "source": [
    "number1 = int(input('Enter a number1:'))\n",
    "number2 = int(input('Enter a number2:'))\n",
    "print(f'The entered numbers are {number1} and {number2}.')\n",
    "for i in range(0, 11):\n",
    " print(('%d x %d = %d' %(number1, i, number1*i)), ',',('%d x %d = %d' %(number2, i, number2*i )))"
   ]
  },
  {
   "cell_type": "markdown",
   "id": "b8a5e368",
   "metadata": {},
   "source": [
    "## 14. Define a list by using user input and filter even numbers using lambda function."
   ]
  },
  {
   "cell_type": "code",
   "execution_count": 16,
   "id": "3c00147e",
   "metadata": {},
   "outputs": [
    {
     "name": "stdout",
     "output_type": "stream",
     "text": [
      "Enter length of list:  5\n",
      "Enter the element0 of list: 12\n",
      "Enter the element1 of list: 7\n",
      "Enter the element2 of list: 9\n",
      "Enter the element3 of list: 6\n",
      "Enter the element4 of list: 3\n",
      "[12, 7, 9, 6, 3]\n",
      "Filtered list [12, 6]\n"
     ]
    }
   ],
   "source": [
    "n = int(input(\"Enter length of list:  \"))\n",
    "data = []\n",
    "\n",
    "for i in range(n):\n",
    "    ele = int(input(f\"Enter the element{i} of list: \"))\n",
    "    data.append(ele)\n",
    "print(data)\n",
    "\n",
    "# def  div(a):\n",
    "#     return a%2==0\n",
    "# result = filter(div,data)\n",
    "# print(list(result))\n",
    "\n",
    "result = filter(lambda a: a%2==0,data)\n",
    "print(\"Filtered list\",list(result))"
   ]
  },
  {
   "cell_type": "markdown",
   "id": "3b33ab8a",
   "metadata": {},
   "source": [
    "## 15. Find Factorial of n number using recursive function"
   ]
  },
  {
   "cell_type": "code",
   "execution_count": 20,
   "id": "72b7117a",
   "metadata": {},
   "outputs": [
    {
     "name": "stdout",
     "output_type": "stream",
     "text": [
      "Enter the number: 10\n",
      "Factorial of 10 is: 3628800\n"
     ]
    }
   ],
   "source": [
    "# fact(5) = 5*4*3*2*1 = 5*fact(4)\n",
    "# fact(4) = 4*3*2*1  = 4* fact(3)\n",
    "# fact(3) = 3*fact(2)\n",
    "# fact(2) = 2*fact(1)\n",
    "# fact(1) = 1\n",
    "\n",
    "\n",
    "def fact(num):\n",
    "    if num == 1:\n",
    "        return 1\n",
    "    return num * fact(num-1)\n",
    "\n",
    "n = int(input(\"Enter the number: \"))\n",
    "print(f\"Factorial of {n} is: {fact(n)}\")"
   ]
  },
  {
   "cell_type": "markdown",
   "id": "dcf47ad2",
   "metadata": {},
   "source": [
    "## 16. Write code to display Question, options and check answers using sample data\n",
    "sample = {\n",
    "    \"quiz\": {\n",
    "        \"maths\": {\n",
    "            \"q1\": {\n",
    "                \"question\": \"5 + 7 = ?\",\n",
    "                \"options\": [\n",
    "                    \"10\",\n",
    "                    \"11\",\n",
    "                    \"12\",\n",
    "                    \"13\"\n",
    "                ],\n",
    "                \"answer\": \"12\"\n",
    "            },\n",
    "            \"q2\": {\n",
    "                \"question\": \"12 - 8 = ?\",\n",
    "                \"options\": [\n",
    "                    \"1\",\n",
    "                    \"2\",\n",
    "                    \"3\",\n",
    "                    \"4\"\n",
    "                ],\n",
    "                \"answer\": \"4\"\n",
    "            }\n",
    "        }\n",
    "    }\n",
    "}\n"
   ]
  },
  {
   "cell_type": "code",
   "execution_count": 21,
   "id": "9c001f88",
   "metadata": {},
   "outputs": [
    {
     "name": "stdout",
     "output_type": "stream",
     "text": [
      "5 + 7 = ?\n",
      "10\n",
      "11\n",
      "12\n",
      "13\n",
      "Enter the your answer12\n",
      "Correct Answer\n",
      "12 - 8 = ?\n",
      "1\n",
      "2\n",
      "3\n",
      "4\n",
      "Enter the your answer3\n",
      "Incorrect Answer\n"
     ]
    }
   ],
   "source": [
    "sample = {\n",
    "    \"quiz\": {\n",
    "        \"maths\": {\n",
    "            \"q1\": {\n",
    "                \"question\": \"5 + 7 = ?\",\n",
    "                \"options\": [\n",
    "                    \"10\",\n",
    "                    \"11\",\n",
    "                    \"12\",\n",
    "                    \"13\"\n",
    "                ],\n",
    "                \"answer\": \"12\"\n",
    "            },\n",
    "            \"q2\": {\n",
    "                \"question\": \"12 - 8 = ?\",\n",
    "                \"options\": [\n",
    "                    \"1\",\n",
    "                    \"2\",\n",
    "                    \"3\",\n",
    "                    \"4\"\n",
    "                ],\n",
    "                \"answer\": \"4\"\n",
    "            }\n",
    "        }\n",
    "    }\n",
    "}\n",
    "\n",
    "\n",
    "tempDict = sample[\"quiz\"][\"maths\"]\n",
    "for item in tempDict:\n",
    "    print(tempDict[item]['question'])\n",
    "    for option in tempDict[item]['options']:\n",
    "        print(option)\n",
    "    answer = int(input(\"Enter the your answer\"))\n",
    "    if answer == int(tempDict[item]['answer']):\n",
    "        print(\"Correct Answer\")\n",
    "    else:\n",
    "        print(\"Incorrect Answer\")"
   ]
  },
  {
   "cell_type": "markdown",
   "id": "30d733d1",
   "metadata": {},
   "source": [
    "## 17 . Write program to convert string date"
   ]
  },
  {
   "cell_type": "code",
   "execution_count": 22,
   "id": "3549a3db",
   "metadata": {},
   "outputs": [
    {
     "name": "stdout",
     "output_type": "stream",
     "text": [
      "2001-12-01 <class 'str'>\n",
      "2001-12-01 <class 'datetime.date'>\n"
     ]
    }
   ],
   "source": [
    "from datetime import datetime\n",
    "\n",
    "a = '2001-12-01'\n",
    "print(a,type(a))\n",
    "b = datetime.strptime(a, '%Y-%m-%d').date()\n",
    "print(b,type(b))\n"
   ]
  },
  {
   "cell_type": "code",
   "execution_count": 23,
   "id": "d6da2298",
   "metadata": {},
   "outputs": [
    {
     "name": "stdout",
     "output_type": "stream",
     "text": [
      "2001-December-01 <class 'str'>\n",
      "2001-12-01 <class 'datetime.date'>\n"
     ]
    }
   ],
   "source": [
    "a = '2001-December-01'\n",
    "print(a,type(a))\n",
    "b = datetime.strptime(a, '%Y-%B-%d').date()\n",
    "print(b,type(b))"
   ]
  },
  {
   "cell_type": "code",
   "execution_count": 24,
   "id": "e8ad78e2",
   "metadata": {},
   "outputs": [
    {
     "name": "stdout",
     "output_type": "stream",
     "text": [
      "3:26:50 pm <class 'str'>\n",
      "03:26:50 <class 'datetime.time'>\n"
     ]
    }
   ],
   "source": [
    "a = '3:26:50 pm'\n",
    "print(a,type(a))\n",
    "b = datetime.strptime(a, '%H:%M:%S %p').time()\n",
    "print(b,type(b))"
   ]
  },
  {
   "cell_type": "code",
   "execution_count": 25,
   "id": "0f5383da",
   "metadata": {},
   "outputs": [
    {
     "name": "stdout",
     "output_type": "stream",
     "text": [
      "12/12/2022 15.13.10 <class 'str'>\n",
      "2022-12-12 15:13:10 <class 'datetime.datetime'>\n"
     ]
    }
   ],
   "source": [
    "date = '12/12/2022 15.13.10'\n",
    "print(date,type(date))\n",
    "\n",
    "Date_format = datetime.strptime(date, '%d/%m/%Y %H.%M.%S')\n",
    "print(Date_format,type(Date_format))"
   ]
  },
  {
   "cell_type": "markdown",
   "id": "5855e058",
   "metadata": {},
   "source": [
    "## 18. Take a string as input and reverse it."
   ]
  },
  {
   "cell_type": "code",
   "execution_count": 27,
   "id": "0e875e68",
   "metadata": {},
   "outputs": [
    {
     "name": "stdout",
     "output_type": "stream",
     "text": [
      "Enter the string:SnajayKumar\n",
      "ramuKyajanS\n"
     ]
    }
   ],
   "source": [
    "string = input(\"Enter the string:\")\n",
    "reverse = string[::-1]\n",
    "print(reverse)"
   ]
  },
  {
   "cell_type": "markdown",
   "id": "a46f880a",
   "metadata": {},
   "source": [
    "## 19. Take a string as input and reverse it, replace string vowels with -\n",
    "**a=0, e=1, i =2, o = 2, u = 3**"
   ]
  },
  {
   "cell_type": "code",
   "execution_count": 40,
   "id": "4dc595fc",
   "metadata": {},
   "outputs": [
    {
     "name": "stdout",
     "output_type": "stream",
     "text": [
      "Enter the string:i eat apple\n",
      "elppa tae i\n",
      "[2, 'l', 'p', 'p', 2, ' ', 't', 2, 2, ' ', 2]\n",
      "[ 2 ,   ' l ' ,   ' p ' ,   ' p ' ,   2 ,   '   ' ,   ' t ' ,   2 ,   2 ,   '   ' ,   2 ] <class 'str'>\n"
     ]
    }
   ],
   "source": [
    "string = input(\"Enter the string:\")\n",
    "\n",
    "reverse = string[::-1]\n",
    "print(reverse)\n",
    "\n",
    "b = []\n",
    "for i in reverse:\n",
    "    if i in ('a','e','i','o','u'):\n",
    "        a=0\n",
    "        e=1\n",
    "        i =2\n",
    "        o = 2\n",
    "        u = 3\n",
    "    b.append(i)\n",
    "print(b)\n",
    "c= str(b)\n",
    "print(*c,type(c))"
   ]
  },
  {
   "cell_type": "markdown",
   "id": "eb0eefc1",
   "metadata": {},
   "source": [
    "## 20. Enumerate the given two list\n",
    "nums = [12, 23, 34, 45]\n",
    "\n",
    "names = [\"Tipu\" , \"Lavanya\" , \"Kalpana\", \"Sanjeet\"]"
   ]
  },
  {
   "cell_type": "code",
   "execution_count": 1,
   "id": "24cd7781",
   "metadata": {},
   "outputs": [
    {
     "name": "stdout",
     "output_type": "stream",
     "text": [
      "0 Tipu\n",
      "1 Lavanya\n",
      "2 Kalpana\n",
      "3 Sanjeet\n"
     ]
    }
   ],
   "source": [
    "nums = [12, 23, 34, 45]\n",
    "names = [\"Tipu\" , \"Lavanya\" , \"Kalpana\", \"Sanjeet\"]\n",
    "\n",
    "i = 0\n",
    "for name in names:\n",
    "    print(i,name)\n",
    "    i = i+1\n"
   ]
  },
  {
   "cell_type": "code",
   "execution_count": null,
   "id": "ac7d5a9e",
   "metadata": {},
   "outputs": [],
   "source": [
    "res = enumerate(nums)\n",
    "for ele in res:\n",
    "  print(ele)\n",
    "\n",
    "for ele in enumerate(names):\n",
    "  print(ele)"
   ]
  },
  {
   "cell_type": "code",
   "execution_count": 3,
   "id": "43692d00",
   "metadata": {},
   "outputs": [
    {
     "name": "stdout",
     "output_type": "stream",
     "text": [
      "(50, 'Tipu')\n",
      "(51, 'Lavanya')\n",
      "(52, 'Kalpana')\n",
      "(53, 'Sanjeet')\n"
     ]
    }
   ],
   "source": [
    "# help(enumerate)\n",
    "for ele in enumerate(names , 50):\n",
    "  print(ele)"
   ]
  },
  {
   "cell_type": "markdown",
   "id": "a01a969d",
   "metadata": {},
   "source": [
    "## 21. Find the length of  given list names\n",
    "names = [\"Tipu\" , \"Lavanya\" , \"Kalpana\", \"San\"]"
   ]
  },
  {
   "cell_type": "code",
   "execution_count": 5,
   "id": "83091eb1",
   "metadata": {},
   "outputs": [
    {
     "name": "stdout",
     "output_type": "stream",
     "text": [
      "4\n",
      "7\n",
      "7\n",
      "3\n"
     ]
    }
   ],
   "source": [
    "# Method-1\n",
    "names = [\"Tipu\" , \"Lavanya\" , \"Kalpana\", \"San\"]\n",
    "\n",
    "for name in names:\n",
    "    print(len(name))"
   ]
  },
  {
   "cell_type": "code",
   "execution_count": 6,
   "id": "d485b594",
   "metadata": {},
   "outputs": [
    {
     "name": "stdout",
     "output_type": "stream",
     "text": [
      "[4, 7, 7, 3]\n"
     ]
    }
   ],
   "source": [
    "# Method-2\n",
    "print( list( map(len, names) ) )"
   ]
  },
  {
   "cell_type": "markdown",
   "id": "7ac4dc3e",
   "metadata": {},
   "source": [
    "## 22. Create a function which return square and find Square of list element."
   ]
  },
  {
   "cell_type": "code",
   "execution_count": 8,
   "id": "9a05e561",
   "metadata": {},
   "outputs": [
    {
     "name": "stdout",
     "output_type": "stream",
     "text": [
      "nums: [12, 2, 4, 5]\n",
      "[144, 4, 16, 25]\n"
     ]
    }
   ],
   "source": [
    "nums = [12, 2, 4, 5]\n",
    "print(\"nums:\",nums)\n",
    "\n",
    "def square(x):\n",
    "    return x * x\n",
    "    \n",
    "\n",
    "print( list( map(square, nums) ) )"
   ]
  },
  {
   "cell_type": "markdown",
   "id": "0fd880b7",
   "metadata": {},
   "source": [
    "## 23. Find Cube of list using lambda function"
   ]
  },
  {
   "cell_type": "code",
   "execution_count": 10,
   "id": "9fe692ca",
   "metadata": {},
   "outputs": [
    {
     "name": "stdout",
     "output_type": "stream",
     "text": [
      "[1728, 8, 64, 125]\n"
     ]
    }
   ],
   "source": [
    "nums = [12, 2, 4, 5]\n",
    "    \n",
    "print( list( map(lambda x : x * x * x, nums) ) )"
   ]
  },
  {
   "cell_type": "markdown",
   "id": "ef82538c",
   "metadata": {},
   "source": [
    "## 24. Filter the uppercase letter from a given list."
   ]
  },
  {
   "cell_type": "code",
   "execution_count": 11,
   "id": "3f5cf2c6",
   "metadata": {},
   "outputs": [
    {
     "data": {
      "text/plain": [
       "['H', 'A', 'B', 'A', 'D']"
      ]
     },
     "execution_count": 11,
     "metadata": {},
     "output_type": "execute_result"
    }
   ],
   "source": [
    "name = \"HyderABAD\"\n",
    "\n",
    "def isuppercase(c):\n",
    "  # print(\"isuppercase called with \" , c)\n",
    "  return c.isupper()\n",
    "\n",
    "list( filter( isuppercase  , name ) )"
   ]
  },
  {
   "cell_type": "markdown",
   "id": "778d2036",
   "metadata": {},
   "source": [
    "## 25. Filter the Digits from the msg.\n",
    "msg = \"Your OTP is 123489 for transaction at XYZ\""
   ]
  },
  {
   "cell_type": "code",
   "execution_count": 14,
   "id": "e010cb68",
   "metadata": {},
   "outputs": [
    {
     "name": "stdout",
     "output_type": "stream",
     "text": [
      "['1', '2', '3', '4', '8', '9']\n",
      "123489 <class 'str'>\n"
     ]
    }
   ],
   "source": [
    "msg = \"Your OTP is 123489 for transaction at XYZ\"\n",
    "digits = list ( filter( str.isdigit , msg  ))\n",
    "print(digits)\n",
    "\n",
    "x = \"\".join(digits)\n",
    "print(x , type(x))"
   ]
  },
  {
   "cell_type": "markdown",
   "id": "a059da48",
   "metadata": {},
   "source": [
    "## 26. Give output if a string is multiple with integer and integer multiple with integer."
   ]
  },
  {
   "cell_type": "code",
   "execution_count": 18,
   "id": "57f36c2a",
   "metadata": {},
   "outputs": [
    {
     "name": "stdout",
     "output_type": "stream",
     "text": [
      "12345689 <class 'str'>\n",
      "1234568912345689\n"
     ]
    }
   ],
   "source": [
    "x = '12345689'\n",
    "print(x,type(x))\n",
    "\n",
    "print(x*2)"
   ]
  },
  {
   "cell_type": "markdown",
   "id": "9b48289f",
   "metadata": {},
   "source": [
    "## 27. What is deep copy and shallow copy? Take a list and copy(deep and shallow)."
   ]
  },
  {
   "cell_type": "code",
   "execution_count": 2,
   "id": "b7bc5a27",
   "metadata": {},
   "outputs": [
    {
     "name": "stdout",
     "output_type": "stream",
     "text": [
      "[12, 3, 8, 14, 4]\n",
      "[12, 3, 8, 14, 4]\n",
      "[12, 3, 8, 14, 4]\n",
      "[89, 3, 8, 14, 4]\n"
     ]
    }
   ],
   "source": [
    "a = [12, 3, 8 , 14, 4]\n",
    "# b = a  #Shallow Copy\n",
    "# b = a[:] #Deep Copy\n",
    "b = a.copy()  # deep copy\n",
    "print(a)\n",
    "print(b)\n",
    "b[0] = 89\n",
    "print(a)\n",
    "print(b)"
   ]
  },
  {
   "cell_type": "code",
   "execution_count": 3,
   "id": "f8614f68",
   "metadata": {},
   "outputs": [
    {
     "name": "stdout",
     "output_type": "stream",
     "text": [
      "[12, 3, 8, 14, 4]\n"
     ]
    }
   ],
   "source": [
    "b = a  #Shallow Copy\n",
    "print(b)"
   ]
  },
  {
   "cell_type": "code",
   "execution_count": 4,
   "id": "bcd5261f",
   "metadata": {},
   "outputs": [
    {
     "name": "stdout",
     "output_type": "stream",
     "text": [
      "[12, 3, 8, 14, 4]\n"
     ]
    }
   ],
   "source": [
    "b = a[:] #Deep Copy\n",
    "print(b)"
   ]
  },
  {
   "cell_type": "markdown",
   "id": "6765816a",
   "metadata": {},
   "source": [
    "## 28. What is difference between sort and sorted?"
   ]
  },
  {
   "cell_type": "code",
   "execution_count": 5,
   "id": "6c235029",
   "metadata": {},
   "outputs": [
    {
     "name": "stdout",
     "output_type": "stream",
     "text": [
      "[12, 3, 8, 14, 4]\n",
      "[3, 4, 8, 12, 14]\n"
     ]
    }
   ],
   "source": [
    "# sort the elements\n",
    "# sort method in list class and\n",
    "# sorted function\n",
    "\n",
    "a = [12, 3, 8 , 14, 4]\n",
    "print(a)\n",
    "a.sort()\n",
    "print(a)"
   ]
  },
  {
   "cell_type": "code",
   "execution_count": 6,
   "id": "b1d9f5d2",
   "metadata": {},
   "outputs": [
    {
     "name": "stdout",
     "output_type": "stream",
     "text": [
      "[12, 3, 8, 14, 4]\n",
      "[3, 4, 8, 12, 14]\n",
      "[3, 4, 8, 12, 14]\n",
      "[12, 3, 8, 14, 4]\n"
     ]
    }
   ],
   "source": [
    "a = [12, 3, 8 , 14, 4]\n",
    "sorted(a)  # sorting list bot didnot return value\n",
    "print(a)\n",
    "\n",
    "print(sorted(a))\n",
    "\n",
    "b = sorted(a)\n",
    "print(b)\n",
    "print(a)"
   ]
  },
  {
   "cell_type": "code",
   "execution_count": 7,
   "id": "0e5f090e",
   "metadata": {},
   "outputs": [
    {
     "name": "stdout",
     "output_type": "stream",
     "text": [
      "[14, 12, 8, 4, 3]\n"
     ]
    }
   ],
   "source": [
    "print(sorted(a, reverse = True))"
   ]
  },
  {
   "cell_type": "code",
   "execution_count": 8,
   "id": "1886280d",
   "metadata": {},
   "outputs": [
    {
     "name": "stdout",
     "output_type": "stream",
     "text": [
      "['Sanjay', 'Akash', 'Avinash', 'Amit', 'Sarvesh']\n",
      "['Akash', 'Amit', 'Avinash', 'Sanjay', 'Sarvesh']\n"
     ]
    }
   ],
   "source": [
    "names  = ['Sanjay','Akash','Avinash','Amit','Sarvesh']\n",
    "\n",
    "print(names)\n",
    "names.sort()\n",
    "print(names)"
   ]
  },
  {
   "cell_type": "code",
   "execution_count": 9,
   "id": "15d3c3b8",
   "metadata": {},
   "outputs": [
    {
     "name": "stdout",
     "output_type": "stream",
     "text": [
      "['a', 'a', 'j', 'n', 's', 'y']\n"
     ]
    },
    {
     "data": {
      "text/plain": [
       "'aajnsy'"
      ]
     },
     "execution_count": 9,
     "metadata": {},
     "output_type": "execute_result"
    }
   ],
   "source": [
    "name = \"sanjay\"\n",
    "# name.sort()   # error\n",
    "#sorted(name)\n",
    "sortedAlphabets = list(name)\n",
    "sortedAlphabets.sort()\n",
    "print(sortedAlphabets)\n",
    "\"\".join(sortedAlphabets)"
   ]
  },
  {
   "cell_type": "code",
   "execution_count": 10,
   "id": "ddfd5ee0",
   "metadata": {},
   "outputs": [
    {
     "data": {
      "text/plain": [
       "['a', 'a', 'j', 'n', 's', 'y']"
      ]
     },
     "execution_count": 10,
     "metadata": {},
     "output_type": "execute_result"
    }
   ],
   "source": [
    "name = \"sanjay\"\n",
    "sorted(name)"
   ]
  },
  {
   "cell_type": "markdown",
   "id": "cc47910c",
   "metadata": {},
   "source": [
    "## 29. Take astring as imput and reverse it.\n",
    "- Today is Monday and yesterday was sunday\n",
    "- yadoT Is yadnoM And yadretsey Was yadnus "
   ]
  },
  {
   "cell_type": "code",
   "execution_count": 11,
   "id": "d1a7a196",
   "metadata": {},
   "outputs": [
    {
     "name": "stdout",
     "output_type": "stream",
     "text": [
      "yadoT Is yadnoM And yadretsey Was yadnus "
     ]
    }
   ],
   "source": [
    "sentence = \"Today is Monday and yesterday was sunday\"\n",
    "words = sentence.split()\n",
    "\n",
    "for index , word in enumerate(words):\n",
    "    if index % 2 == 0:\n",
    "        print(word[::-1], end = ' ')\n",
    "    else:\n",
    "        print(word.capitalize(),end = ' ')\n",
    "    \n"
   ]
  },
  {
   "cell_type": "markdown",
   "id": "c7128ef1",
   "metadata": {},
   "source": [
    "## 30. Take 3 user input add to list?"
   ]
  },
  {
   "cell_type": "code",
   "execution_count": 12,
   "id": "73af97ba",
   "metadata": {},
   "outputs": [
    {
     "name": "stdout",
     "output_type": "stream",
     "text": [
      "Sanjay\n",
      "['Sanjay']\n",
      "Ram\n",
      "['Sanjay', 'Ram']\n",
      "Shyam\n",
      "['Sanjay', 'Ram', 'Shyam']\n"
     ]
    }
   ],
   "source": [
    "student = []\n",
    "for i in range(3):\n",
    "    ele = input()\n",
    "    student.append(ele)\n",
    "    print(student)"
   ]
  },
  {
   "cell_type": "markdown",
   "id": "a44b0396",
   "metadata": {},
   "source": [
    "## 31. Take a user input sentence and  count all alphabates?"
   ]
  },
  {
   "cell_type": "code",
   "execution_count": 14,
   "id": "d6d1b286",
   "metadata": {},
   "outputs": [
    {
     "name": "stdout",
     "output_type": "stream",
     "text": [
      "Enter sentence: Today is Monday and yesterday was sunday\n",
      "{'T': 1, 'o': 2, 'd': 5, 'a': 6, 'y': 5, ' ': 6, 'i': 1, 's': 4, 'M': 1, 'n': 3, 'e': 2, 't': 1, 'r': 1, 'w': 1, 'u': 1}\n"
     ]
    }
   ],
   "source": [
    "sentence = input(\"Enter sentence: \")\n",
    "freq = {}\n",
    "for c  in sentence:\n",
    "    if c not in freq:\n",
    "        freq[c] = 1\n",
    "    else:\n",
    "        freq[c] = freq[c] + 1\n",
    "print(freq)"
   ]
  },
  {
   "cell_type": "code",
   "execution_count": 15,
   "id": "24152539",
   "metadata": {},
   "outputs": [
    {
     "name": "stdout",
     "output_type": "stream",
     "text": [
      "{}\n",
      "12 occured first time\n",
      "{12: 1}\n",
      "21 occured first time\n",
      "{12: 1, 21: 1}\n",
      "78 occured first time\n",
      "{12: 1, 21: 1, 78: 1}\n",
      "13 occured first time\n",
      "{12: 1, 21: 1, 78: 1, 13: 1}\n",
      "55 occured first time\n",
      "{12: 1, 21: 1, 78: 1, 13: 1, 55: 1}\n",
      "78 already present 1,updating the count\n",
      "{12: 1, 21: 1, 78: 2, 13: 1, 55: 1}\n",
      "12 already present 1,updating the count\n",
      "{12: 2, 21: 1, 78: 2, 13: 1, 55: 1}\n",
      "76 occured first time\n",
      "{12: 2, 21: 1, 78: 2, 13: 1, 55: 1, 76: 1}\n",
      "22 occured first time\n",
      "{12: 2, 21: 1, 78: 2, 13: 1, 55: 1, 76: 1, 22: 1}\n",
      "45 occured first time\n",
      "{12: 2, 21: 1, 78: 2, 13: 1, 55: 1, 76: 1, 22: 1, 45: 1}\n",
      "13 already present 1,updating the count\n",
      "{12: 2, 21: 1, 78: 2, 13: 2, 55: 1, 76: 1, 22: 1, 45: 1}\n",
      "55 already present 1,updating the count\n",
      "{12: 2, 21: 1, 78: 2, 13: 2, 55: 2, 76: 1, 22: 1, 45: 1}\n",
      "16 occured first time\n",
      "{12: 2, 21: 1, 78: 2, 13: 2, 55: 2, 76: 1, 22: 1, 45: 1, 16: 1}\n",
      "13 already present 2,updating the count\n"
     ]
    }
   ],
   "source": [
    "nums = [12,21,78,13,55,78,12,76,22,45,13,55,16,13]\n",
    "\n",
    "freq = {}\n",
    "for ele in nums:\n",
    "    print(freq)\n",
    "    if ele in freq:\n",
    "        print(f\"{ele} already present {freq[ele]},updating the count\")\n",
    "        freq[ele] = freq[ele] + 1\n",
    "    else:\n",
    "        print(f\"{ele} occured first time\")\n",
    "        freq[ele]  = 1"
   ]
  },
  {
   "cell_type": "markdown",
   "id": "c33f634a",
   "metadata": {},
   "source": [
    "## 32. Alphabate Rangoli print"
   ]
  },
  {
   "cell_type": "code",
   "execution_count": 4,
   "id": "780af4e7",
   "metadata": {},
   "outputs": [
    {
     "name": "stdout",
     "output_type": "stream",
     "text": [
      "Enter the number between 0 to 27 :13\n",
      "m\n"
     ]
    }
   ],
   "source": [
    "integer = int(input(\"Enter the number between 0 to 27 :\"))\n",
    "alphabet = \"abcdefghijklmnopqrstuvwxyz\"\n",
    "if integer < 1 or integer > 26:\n",
    "    print(\"Interger is not valid\")\n",
    "else:\n",
    "    print(alphabet[integer-1])\n",
    "\n",
    "\n",
    "        "
   ]
  },
  {
   "cell_type": "code",
   "execution_count": 10,
   "id": "ac92d878",
   "metadata": {},
   "outputs": [
    {
     "name": "stdout",
     "output_type": "stream",
     "text": [
      "3\n",
      "s= a-b-c\n",
      "L=  ['c-b-a-b-c']\n",
      "s= b-c\n",
      "L=  ['c-b-a-b-c', '--c-b-c--']\n",
      "s= c\n",
      "L=  ['c-b-a-b-c', '--c-b-c--', '----c----']\n",
      "----c----\n",
      "--c-b-c--\n",
      "c-b-a-b-c\n",
      "--c-b-c--\n",
      "----c----\n"
     ]
    }
   ],
   "source": [
    "import string\n",
    "alpha = string.ascii_lowercase\n",
    "\n",
    "n = int(input())\n",
    "L = []\n",
    "for i in range(n):\n",
    "    s = \"-\".join(alpha[i:n])\n",
    "    print(\"s=\",s)\n",
    "    L.append((s[::-1]+s[1:]).center(4*n-3, \"-\"))\n",
    "    print(\"L= \",L)\n",
    "print('\\n'.join(L[:0:-1]+L))"
   ]
  },
  {
   "cell_type": "code",
   "execution_count": 20,
   "id": "c3757cae",
   "metadata": {},
   "outputs": [
    {
     "name": "stdout",
     "output_type": "stream",
     "text": [
      "3\n",
      "['-c-bab-c-', '----bc---', '----c----']\n"
     ]
    }
   ],
   "source": [
    "import string\n",
    "def print_rangoli(size):\n",
    "    width = 4 * size - 3\n",
    "    alpha = string.ascii_lowercase\n",
    "    lines = []\n",
    "    for i in range(size):\n",
    "        # Generate the line as in the previous version\n",
    "        left_half = '-'.join(alpha[size - 1 - i:i:-1])\n",
    "        center = alpha[i]\n",
    "        right_half = '-'.join(alpha[i + 1:size])\n",
    "        line = left_half + center + right_half\n",
    "        line = line.center(width, '-')\n",
    "        lines.append(line)\n",
    "\n",
    "    return lines\n",
    "if __name__ == '__main__':\n",
    "    n = int(input())\n",
    "    print(print_rangoli(n))"
   ]
  },
  {
   "cell_type": "code",
   "execution_count": null,
   "id": "f9d87002",
   "metadata": {},
   "outputs": [],
   "source": []
  }
 ],
 "metadata": {
  "kernelspec": {
   "display_name": "Python 3 (ipykernel)",
   "language": "python",
   "name": "python3"
  },
  "language_info": {
   "codemirror_mode": {
    "name": "ipython",
    "version": 3
   },
   "file_extension": ".py",
   "mimetype": "text/x-python",
   "name": "python",
   "nbconvert_exporter": "python",
   "pygments_lexer": "ipython3",
   "version": "3.11.5"
  }
 },
 "nbformat": 4,
 "nbformat_minor": 5
}
