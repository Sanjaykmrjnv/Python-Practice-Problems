{
 "cells": [
  {
   "cell_type": "code",
   "execution_count": 1,
   "id": "7e22d075",
   "metadata": {},
   "outputs": [],
   "source": [
    "# importing lib\n",
    "import numpy as np\n",
    "import math"
   ]
  },
  {
   "cell_type": "markdown",
   "id": "3f9718c5",
   "metadata": {},
   "source": [
    "## 1. Calulation of Simple Interest"
   ]
  },
  {
   "cell_type": "code",
   "execution_count": 8,
   "id": "5f086e28",
   "metadata": {},
   "outputs": [
    {
     "name": "stdout",
     "output_type": "stream",
     "text": [
      "Enter the Principle amount:1000\n",
      "Enter the  Interest rate:10\n",
      "Enter the time1\n",
      "-------------------\n",
      "Interest is:100.0\n",
      "-------------------\n",
      "Total Amount = 1100.0\n"
     ]
    }
   ],
   "source": [
    "p = int(input(\"Enter the Principle amount:\"))\n",
    "r = float(input(\"Enter the  Interest rate:\"))\n",
    "t = float(input(\"Enter the time\"))\n",
    "\n",
    "si  = (p * r * t)/100\n",
    "\n",
    "print(\"-------------------\")\n",
    "print(f\"Interest is:{si}\")\n",
    "print(\"-------------------\")\n",
    "print(f\"Total Amount = {p+si}\")"
   ]
  },
  {
   "cell_type": "markdown",
   "id": "c466d130",
   "metadata": {},
   "source": [
    " ## 2. Sum of input  digits "
   ]
  },
  {
   "cell_type": "code",
   "execution_count": 1,
   "id": "6bd033a1",
   "metadata": {},
   "outputs": [
    {
     "name": "stdout",
     "output_type": "stream",
     "text": [
      "Enter the number:12\n",
      "Sum of enterd number is:3\n"
     ]
    }
   ],
   "source": [
    "add = 0\n",
    "num =input(\"Enter the number:\")\n",
    "for i  in num:\n",
    "    add = add+int(i)\n",
    "print(f\"Sum of enterd number is:{add}\")"
   ]
  },
  {
   "cell_type": "markdown",
   "id": "926be458",
   "metadata": {},
   "source": [
    " ## 3. Reverse the entered number"
   ]
  },
  {
   "cell_type": "code",
   "execution_count": 29,
   "id": "3b075c14",
   "metadata": {
    "scrolled": true
   },
   "outputs": [
    {
     "name": "stdout",
     "output_type": "stream",
     "text": [
      "Enter the number:54236851155545584554111\n",
      "11145548554555115863245\n"
     ]
    }
   ],
   "source": [
    "num = input(\"Enter the number:\")\n",
    "print(num[::-1])"
   ]
  },
  {
   "cell_type": "markdown",
   "id": "4f7f4377",
   "metadata": {},
   "source": [
    " ## 4. Area of the triangle."
   ]
  },
  {
   "cell_type": "code",
   "execution_count": 41,
   "id": "308b056f",
   "metadata": {},
   "outputs": [
    {
     "name": "stdout",
     "output_type": "stream",
     "text": [
      "Enter the side of Triangle \n",
      " a:6\n",
      " b:6\n",
      " c:6\n",
      "Area of Triangle is:15.588457268119896\n"
     ]
    }
   ],
   "source": [
    "import math\n",
    "a,b,c = int(input(f\"Enter the side of Triangle \\n a:\")),int(input(\" b:\")),int(input(\" c:\"))\n",
    "\n",
    "s = (a + b + c)/2\n",
    "\n",
    "area = math.sqrt(s * (s-a) * (s-b) * (s-c))\n",
    "print(f\"Area of Triangle is:{area}\")"
   ]
  },
  {
   "cell_type": "markdown",
   "id": "f361440f",
   "metadata": {},
   "source": [
    " ## 5. Cartesian co-ordinates (x, y) of a point and convert them into polar co-ordinates (r,ɸ)"
   ]
  },
  {
   "cell_type": "code",
   "execution_count": 57,
   "id": "45d83045",
   "metadata": {
    "scrolled": true
   },
   "outputs": [
    {
     "name": "stdout",
     "output_type": "stream",
     "text": [
      "Enter the value of x:5.6\n",
      "Enter the value ofy:9.8\n",
      "Entered Cartesian co-ordinates(x,y) are:(5.6,9.8)\n",
      "Polar co-ordinates(r,ɸ) are:(11.28716084761797,1.0516502125483738)\n"
     ]
    }
   ],
   "source": [
    "# Hint: r = sqrt ( x2+ y2) and ɸ = tan-1( y / x )\n",
    "\n",
    "x,y = float(input(\"Enter the value of x:\")),float(input(\"Enter the value ofy:\"))\n",
    "print(f\"Entered Cartesian co-ordinates(x,y) are:({x},{y})\")\n",
    "\n",
    "r = math.sqrt(x**2 + y**2)\n",
    "ɸ =np.arctan((y/x))\n",
    "\n",
    "print(f\"Polar co-ordinates(r,ɸ) are:({r},{ɸ})\")"
   ]
  },
  {
   "cell_type": "markdown",
   "id": "1966b9e7",
   "metadata": {},
   "source": [
    " ## 6. InputTwo places co-ordiantes on the earth and output the distance (D) between them in nautical miles"
   ]
  },
  {
   "cell_type": "code",
   "execution_count": 58,
   "id": "7fbeed85",
   "metadata": {},
   "outputs": [
    {
     "name": "stdout",
     "output_type": "stream",
     "text": [
      "Enter the latitude L1:5\n",
      "Enter the latitude L2:9\n",
      "Enter the longitude G1:7\n",
      "Enter the longitude G2:8.5\n",
      "Distance in nautical miles is:7914.352994492855\n"
     ]
    }
   ],
   "source": [
    "#Hint: D = 3963 cos-1( sin L1 sin L2 + cos L1 cos L2 * cos ( G2 – G1 ) )\n",
    "\n",
    "L1,L2 = float(input(\"Enter the latitude L1:\")),float(input(\"Enter the latitude L2:\"))\n",
    "G1,G2 = float(input(\"Enter the longitude G1:\")),float(input(\"Enter the longitude G2:\"))\n",
    "\n",
    "D = 3963 * np.arccos(np.sin(L1)*np.sin(L2) + np.cos(L1)*np.cos(L2) * np.cos(G2 -G1))\n",
    "\n",
    "print(f\"Distance in nautical miles is:{D}\")\n"
   ]
  },
  {
   "cell_type": "markdown",
   "id": "a9e06ec2",
   "metadata": {},
   "source": [
    "## 7. Wind chill factor is the felt air temperature on exposed skin due to wind. The wind chill temperature is always lower than the air temperature, and is calculated as per the following formula:wcf = 35.74 + 0.6215t + ( 0.4275t - 35.75 ) * v**0.16\n",
    "###  where t is the temperature and v is the wind velocity. Write a program to receive values of t and v and calculate wind chill factor(wcf).\n",
    "\n"
   ]
  },
  {
   "cell_type": "code",
   "execution_count": 2,
   "id": "0091f2a8",
   "metadata": {},
   "outputs": [
    {
     "name": "stdout",
     "output_type": "stream",
     "text": [
      "Enter the Temperature:37.5\n",
      "Enter the Wind Velocity:22\n",
      "Wind Chill Factor is:26.698560957570322\n"
     ]
    }
   ],
   "source": [
    "t = float(input(\"Enter the Temperature:\"))\n",
    "v = float(input(\"Enter the Wind Velocity:\"))\n",
    "\n",
    "wcf = 35.74 + 0.62115*t + (0.4275*t - 35.75) * v ** 0.16\n",
    "\n",
    "print(f\"Wind Chill Factor is:{wcf}\")"
   ]
  },
  {
   "cell_type": "markdown",
   "id": "4d664778",
   "metadata": {},
   "source": [
    "## 8. If value of an angle is input through the keyboard, write a program to print all its Trigonometric ratios.\n"
   ]
  },
  {
   "cell_type": "code",
   "execution_count": 38,
   "id": "dc37e32d",
   "metadata": {},
   "outputs": [
    {
     "name": "stdout",
     "output_type": "stream",
     "text": [
      "Enter the angle:30\n",
      "The trignometric ratios:\n",
      " sin30.0 = 0.49999999999999994 \n",
      " cos30.0 = 0.8660254037844387 \n",
      " tan30.0 = 0.5773502691896257 \n",
      " cot30.0 = 0.48234790710102493 \n",
      " sec30.0 = 1.0197267436954502 \n",
      " cosec30.0 = 0.5510695830994463\n"
     ]
    }
   ],
   "source": [
    "a = float(input(\"Enter the angle:\"))\n",
    "angle = math.radians(a)\n",
    "sin = math.sin(angle)\n",
    "cos = math.cos(angle)\n",
    "tan = math.tan(angle)\n",
    "cot = math.atan(angle)\n",
    "sec = math.acos(angle)\n",
    "cosec =math.asin(angle)\n",
    "\n",
    "print(f\"The trignometric ratios:\\n sin{a} = {sin} \\n cos{a} = {cos} \\n tan{a} = {tan} \\n cot{a} = {cot} \\n sec{a} = {sec} \\n cosec{a} = {cosec}\")"
   ]
  },
  {
   "cell_type": "code",
   "execution_count": 32,
   "id": "a6dc8290",
   "metadata": {},
   "outputs": [
    {
     "name": "stdout",
     "output_type": "stream",
     "text": [
      "Help on built-in module math:\n",
      "\n",
      "NAME\n",
      "    math\n",
      "\n",
      "DESCRIPTION\n",
      "    This module provides access to the mathematical functions\n",
      "    defined by the C standard.\n",
      "\n",
      "FUNCTIONS\n",
      "    acos(x, /)\n",
      "        Return the arc cosine (measured in radians) of x.\n",
      "        \n",
      "        The result is between 0 and pi.\n",
      "    \n",
      "    acosh(x, /)\n",
      "        Return the inverse hyperbolic cosine of x.\n",
      "    \n",
      "    asin(x, /)\n",
      "        Return the arc sine (measured in radians) of x.\n",
      "        \n",
      "        The result is between -pi/2 and pi/2.\n",
      "    \n",
      "    asinh(x, /)\n",
      "        Return the inverse hyperbolic sine of x.\n",
      "    \n",
      "    atan(x, /)\n",
      "        Return the arc tangent (measured in radians) of x.\n",
      "        \n",
      "        The result is between -pi/2 and pi/2.\n",
      "    \n",
      "    atan2(y, x, /)\n",
      "        Return the arc tangent (measured in radians) of y/x.\n",
      "        \n",
      "        Unlike atan(y/x), the signs of both x and y are considered.\n",
      "    \n",
      "    atanh(x, /)\n",
      "        Return the inverse hyperbolic tangent of x.\n",
      "    \n",
      "    cbrt(x, /)\n",
      "        Return the cube root of x.\n",
      "    \n",
      "    ceil(x, /)\n",
      "        Return the ceiling of x as an Integral.\n",
      "        \n",
      "        This is the smallest integer >= x.\n",
      "    \n",
      "    comb(n, k, /)\n",
      "        Number of ways to choose k items from n items without repetition and without order.\n",
      "        \n",
      "        Evaluates to n! / (k! * (n - k)!) when k <= n and evaluates\n",
      "        to zero when k > n.\n",
      "        \n",
      "        Also called the binomial coefficient because it is equivalent\n",
      "        to the coefficient of k-th term in polynomial expansion of the\n",
      "        expression (1 + x)**n.\n",
      "        \n",
      "        Raises TypeError if either of the arguments are not integers.\n",
      "        Raises ValueError if either of the arguments are negative.\n",
      "    \n",
      "    copysign(x, y, /)\n",
      "        Return a float with the magnitude (absolute value) of x but the sign of y.\n",
      "        \n",
      "        On platforms that support signed zeros, copysign(1.0, -0.0)\n",
      "        returns -1.0.\n",
      "    \n",
      "    cos(x, /)\n",
      "        Return the cosine of x (measured in radians).\n",
      "    \n",
      "    cosh(x, /)\n",
      "        Return the hyperbolic cosine of x.\n",
      "    \n",
      "    degrees(x, /)\n",
      "        Convert angle x from radians to degrees.\n",
      "    \n",
      "    dist(p, q, /)\n",
      "        Return the Euclidean distance between two points p and q.\n",
      "        \n",
      "        The points should be specified as sequences (or iterables) of\n",
      "        coordinates.  Both inputs must have the same dimension.\n",
      "        \n",
      "        Roughly equivalent to:\n",
      "            sqrt(sum((px - qx) ** 2.0 for px, qx in zip(p, q)))\n",
      "    \n",
      "    erf(x, /)\n",
      "        Error function at x.\n",
      "    \n",
      "    erfc(x, /)\n",
      "        Complementary error function at x.\n",
      "    \n",
      "    exp(x, /)\n",
      "        Return e raised to the power of x.\n",
      "    \n",
      "    exp2(x, /)\n",
      "        Return 2 raised to the power of x.\n",
      "    \n",
      "    expm1(x, /)\n",
      "        Return exp(x)-1.\n",
      "        \n",
      "        This function avoids the loss of precision involved in the direct evaluation of exp(x)-1 for small x.\n",
      "    \n",
      "    fabs(x, /)\n",
      "        Return the absolute value of the float x.\n",
      "    \n",
      "    factorial(n, /)\n",
      "        Find n!.\n",
      "        \n",
      "        Raise a ValueError if x is negative or non-integral.\n",
      "    \n",
      "    floor(x, /)\n",
      "        Return the floor of x as an Integral.\n",
      "        \n",
      "        This is the largest integer <= x.\n",
      "    \n",
      "    fmod(x, y, /)\n",
      "        Return fmod(x, y), according to platform C.\n",
      "        \n",
      "        x % y may differ.\n",
      "    \n",
      "    frexp(x, /)\n",
      "        Return the mantissa and exponent of x, as pair (m, e).\n",
      "        \n",
      "        m is a float and e is an int, such that x = m * 2.**e.\n",
      "        If x is 0, m and e are both 0.  Else 0.5 <= abs(m) < 1.0.\n",
      "    \n",
      "    fsum(seq, /)\n",
      "        Return an accurate floating point sum of values in the iterable seq.\n",
      "        \n",
      "        Assumes IEEE-754 floating point arithmetic.\n",
      "    \n",
      "    gamma(x, /)\n",
      "        Gamma function at x.\n",
      "    \n",
      "    gcd(*integers)\n",
      "        Greatest Common Divisor.\n",
      "    \n",
      "    hypot(...)\n",
      "        hypot(*coordinates) -> value\n",
      "        \n",
      "        Multidimensional Euclidean distance from the origin to a point.\n",
      "        \n",
      "        Roughly equivalent to:\n",
      "            sqrt(sum(x**2 for x in coordinates))\n",
      "        \n",
      "        For a two dimensional point (x, y), gives the hypotenuse\n",
      "        using the Pythagorean theorem:  sqrt(x*x + y*y).\n",
      "        \n",
      "        For example, the hypotenuse of a 3/4/5 right triangle is:\n",
      "        \n",
      "            >>> hypot(3.0, 4.0)\n",
      "            5.0\n",
      "    \n",
      "    isclose(a, b, *, rel_tol=1e-09, abs_tol=0.0)\n",
      "        Determine whether two floating point numbers are close in value.\n",
      "        \n",
      "          rel_tol\n",
      "            maximum difference for being considered \"close\", relative to the\n",
      "            magnitude of the input values\n",
      "          abs_tol\n",
      "            maximum difference for being considered \"close\", regardless of the\n",
      "            magnitude of the input values\n",
      "        \n",
      "        Return True if a is close in value to b, and False otherwise.\n",
      "        \n",
      "        For the values to be considered close, the difference between them\n",
      "        must be smaller than at least one of the tolerances.\n",
      "        \n",
      "        -inf, inf and NaN behave similarly to the IEEE 754 Standard.  That\n",
      "        is, NaN is not close to anything, even itself.  inf and -inf are\n",
      "        only close to themselves.\n",
      "    \n",
      "    isfinite(x, /)\n",
      "        Return True if x is neither an infinity nor a NaN, and False otherwise.\n",
      "    \n",
      "    isinf(x, /)\n",
      "        Return True if x is a positive or negative infinity, and False otherwise.\n",
      "    \n",
      "    isnan(x, /)\n",
      "        Return True if x is a NaN (not a number), and False otherwise.\n",
      "    \n",
      "    isqrt(n, /)\n",
      "        Return the integer part of the square root of the input.\n",
      "    \n",
      "    lcm(*integers)\n",
      "        Least Common Multiple.\n",
      "    \n",
      "    ldexp(x, i, /)\n",
      "        Return x * (2**i).\n",
      "        \n",
      "        This is essentially the inverse of frexp().\n",
      "    \n",
      "    lgamma(x, /)\n",
      "        Natural logarithm of absolute value of Gamma function at x.\n",
      "    \n",
      "    log(...)\n",
      "        log(x, [base=math.e])\n",
      "        Return the logarithm of x to the given base.\n",
      "        \n",
      "        If the base not specified, returns the natural logarithm (base e) of x.\n",
      "    \n",
      "    log10(x, /)\n",
      "        Return the base 10 logarithm of x.\n",
      "    \n",
      "    log1p(x, /)\n",
      "        Return the natural logarithm of 1+x (base e).\n",
      "        \n",
      "        The result is computed in a way which is accurate for x near zero.\n",
      "    \n",
      "    log2(x, /)\n",
      "        Return the base 2 logarithm of x.\n",
      "    \n",
      "    modf(x, /)\n",
      "        Return the fractional and integer parts of x.\n",
      "        \n",
      "        Both results carry the sign of x and are floats.\n",
      "    \n",
      "    nextafter(x, y, /)\n",
      "        Return the next floating-point value after x towards y.\n",
      "    \n",
      "    perm(n, k=None, /)\n",
      "        Number of ways to choose k items from n items without repetition and with order.\n",
      "        \n",
      "        Evaluates to n! / (n - k)! when k <= n and evaluates\n",
      "        to zero when k > n.\n",
      "        \n",
      "        If k is not specified or is None, then k defaults to n\n",
      "        and the function returns n!.\n",
      "        \n",
      "        Raises TypeError if either of the arguments are not integers.\n",
      "        Raises ValueError if either of the arguments are negative.\n",
      "    \n",
      "    pow(x, y, /)\n",
      "        Return x**y (x to the power of y).\n",
      "    \n",
      "    prod(iterable, /, *, start=1)\n",
      "        Calculate the product of all the elements in the input iterable.\n",
      "        \n",
      "        The default start value for the product is 1.\n",
      "        \n",
      "        When the iterable is empty, return the start value.  This function is\n",
      "        intended specifically for use with numeric values and may reject\n",
      "        non-numeric types.\n",
      "    \n",
      "    radians(x, /)\n",
      "        Convert angle x from degrees to radians.\n",
      "    \n",
      "    remainder(x, y, /)\n",
      "        Difference between x and the closest integer multiple of y.\n",
      "        \n",
      "        Return x - n*y where n*y is the closest integer multiple of y.\n",
      "        In the case where x is exactly halfway between two multiples of\n",
      "        y, the nearest even value of n is used. The result is always exact.\n",
      "    \n",
      "    sin(x, /)\n",
      "        Return the sine of x (measured in radians).\n",
      "    \n",
      "    sinh(x, /)\n",
      "        Return the hyperbolic sine of x.\n",
      "    \n",
      "    sqrt(x, /)\n",
      "        Return the square root of x.\n",
      "    \n",
      "    tan(x, /)\n",
      "        Return the tangent of x (measured in radians).\n",
      "    \n",
      "    tanh(x, /)\n",
      "        Return the hyperbolic tangent of x.\n",
      "    \n",
      "    trunc(x, /)\n",
      "        Truncates the Real x to the nearest Integral toward 0.\n",
      "        \n",
      "        Uses the __trunc__ magic method.\n",
      "    \n",
      "    ulp(x, /)\n",
      "        Return the value of the least significant bit of the float x.\n",
      "\n",
      "DATA\n",
      "    e = 2.718281828459045\n",
      "    inf = inf\n",
      "    nan = nan\n",
      "    pi = 3.141592653589793\n",
      "    tau = 6.283185307179586\n",
      "\n",
      "FILE\n",
      "    (built-in)\n",
      "\n",
      "\n"
     ]
    }
   ],
   "source": [
    "help(math)"
   ]
  },
  {
   "cell_type": "markdown",
   "id": "39c68076",
   "metadata": {},
   "source": [
    "## 9. Two numbers are input through the keyboard into two locations C and D. Write a program to interchange the contents of C and D."
   ]
  },
  {
   "cell_type": "code",
   "execution_count": 20,
   "id": "74591178",
   "metadata": {},
   "outputs": [
    {
     "name": "stdout",
     "output_type": "stream",
     "text": [
      "Enter first number c:15\n",
      "Enter second number d:25\n",
      " Value c:25.0 \n",
      " Value of d:15.0\n"
     ]
    }
   ],
   "source": [
    "c = float(input(\"Enter first number c:\"))\n",
    "d = float(input(\"Enter second number d:\"))\n",
    "\n",
    "#by using temp variable\n",
    "temp = c\n",
    "c = d\n",
    "d = temp\n",
    "\n",
    "print(f\" Value c:{c} \\n Value of d:{d}\")"
   ]
  },
  {
   "cell_type": "code",
   "execution_count": 21,
   "id": "38fe2164",
   "metadata": {},
   "outputs": [
    {
     "name": "stdout",
     "output_type": "stream",
     "text": [
      "Enter first number c:8.5\n",
      "Enter second number d:6.5\n",
      " Value c:6.5 \n",
      " Value of d:8.5\n"
     ]
    }
   ],
   "source": [
    "c = float(input(\"Enter first number c:\"))\n",
    "d = float(input(\"Enter second number d:\"))\n",
    "\n",
    "# swapping values without using third variable\n",
    "c,d = d,c\n",
    "\n",
    "print(f\" Value c:{c} \\n Value of d:{d}\")"
   ]
  },
  {
   "cell_type": "code",
   "execution_count": 23,
   "id": "ae78ea33",
   "metadata": {},
   "outputs": [
    {
     "name": "stdout",
     "output_type": "stream",
     "text": [
      "Enter first number c:56\n",
      "Enter second number d:25\n",
      " Value c:25 \n",
      " Value of d:56\n"
     ]
    }
   ],
   "source": [
    "c = int(input(\"Enter first number c:\"))\n",
    "d = int(input(\"Enter second number d:\"))\n",
    "\n",
    "# swapping values using XOR\n",
    "c = c ^ d\n",
    "d = c ^ d\n",
    "c = c ^ d\n",
    "\n",
    "print(f\" Value c:{c} \\n Value of d:{d}\")"
   ]
  },
  {
   "cell_type": "code",
   "execution_count": 24,
   "id": "d9bbcdd6",
   "metadata": {},
   "outputs": [
    {
     "name": "stdout",
     "output_type": "stream",
     "text": [
      "Enter first number c:25\n",
      "Enter second number d:50\n",
      " Value c:50.0 \n",
      " Value of d:25.0\n"
     ]
    }
   ],
   "source": [
    "c = float(input(\"Enter first number c:\"))\n",
    "d = float(input(\"Enter second number d:\"))\n",
    "\n",
    "# swapping values using arthmatic\n",
    "c = c + d\n",
    "d = c - d\n",
    "c = c - d\n",
    "\n",
    "print(f\" Value c:{c} \\n Value of d:{d}\")"
   ]
  },
  {
   "cell_type": "code",
   "execution_count": 26,
   "id": "6409d018",
   "metadata": {},
   "outputs": [
    {
     "name": "stdout",
     "output_type": "stream",
     "text": [
      "Enter first number c:15\n",
      "Enter second number d:26\n",
      " Value c:26 \n",
      " Value of d:15\n"
     ]
    }
   ],
   "source": [
    "c = int(input(\"Enter first number c:\"))\n",
    "d = int(input(\"Enter second number d:\"))\n",
    "\n",
    "# swapping values using bitwise \n",
    "c = (c & d)+(c | d)\n",
    "d = c + (~d) + 1\n",
    "c = c + (~d) + 1\n",
    "\n",
    "\n",
    "print(f\" Value c:{c} \\n Value of d:{d}\")"
   ]
  },
  {
   "cell_type": "markdown",
   "id": "43cfc195",
   "metadata": {},
   "source": [
    "## 10. Consider a currency system in which there are notes of seven denominations, namely, Re. 1, Rs. 2, Rs. 5, Rs. 10, Rs. 50, Rs. 100. If a sum of Rs. N is entered through the keyboard, write a program to compute the smallest number of notes that will combine to give Rs. N"
   ]
  },
  {
   "cell_type": "code",
   "execution_count": 1,
   "id": "89c746d2",
   "metadata": {},
   "outputs": [
    {
     "name": "stdout",
     "output_type": "stream",
     "text": [
      "Enter the amount :559\n",
      "Currency count:\n",
      "100 : 5\n",
      "50 : 1\n",
      "5 : 1\n",
      "2 : 2\n"
     ]
    }
   ],
   "source": [
    "currency = [100, 50 , 10 , 5 , 2 ,1]\n",
    "amount = int(input(\"Enter the amount :\"))\n",
    "notescount = {}\n",
    "\n",
    "for note in currency:\n",
    "    if amount >= note:\n",
    "        notescount[note] = amount//note\n",
    "        amount = amount % note\n",
    "        \n",
    "print(\"Currency count:\")\n",
    "for key,val in notescount.items():\n",
    "    print(f\"{key} : {val}\")\n",
    "    "
   ]
  },
  {
   "cell_type": "code",
   "execution_count": null,
   "id": "53bf1cef",
   "metadata": {},
   "outputs": [],
   "source": []
  }
 ],
 "metadata": {
  "kernelspec": {
   "display_name": "Python 3 (ipykernel)",
   "language": "python",
   "name": "python3"
  },
  "language_info": {
   "codemirror_mode": {
    "name": "ipython",
    "version": 3
   },
   "file_extension": ".py",
   "mimetype": "text/x-python",
   "name": "python",
   "nbconvert_exporter": "python",
   "pygments_lexer": "ipython3",
   "version": "3.11.3"
  }
 },
 "nbformat": 4,
 "nbformat_minor": 5
}
